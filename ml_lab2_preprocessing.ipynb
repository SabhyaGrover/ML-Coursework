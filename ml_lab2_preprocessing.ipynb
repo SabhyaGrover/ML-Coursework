{
  "nbformat": 4,
  "nbformat_minor": 0,
  "metadata": {
    "colab": {
      "name": "ml_lab2.ipynb",
      "provenance": [],
      "collapsed_sections": [],
      "authorship_tag": "ABX9TyOtqJhRw+U2kqpFh0F8x44v",
      "include_colab_link": true
    },
    "kernelspec": {
      "name": "python3",
      "display_name": "Python 3"
    }
  },
  "cells": [
    {
      "cell_type": "markdown",
      "metadata": {
        "id": "view-in-github",
        "colab_type": "text"
      },
      "source": [
        "<a href=\"https://colab.research.google.com/github/SabhyaGrover/ML-Coursework/blob/main/ml_lab2.ipynb\" target=\"_parent\"><img src=\"https://colab.research.google.com/assets/colab-badge.svg\" alt=\"Open In Colab\"/></a>"
      ]
    },
    {
      "cell_type": "markdown",
      "metadata": {
        "id": "kiM6M6EyVYUP"
      },
      "source": [
        "## **Assignment 2**"
      ]
    },
    {
      "cell_type": "markdown",
      "metadata": {
        "id": "wGDU0TasR1ht"
      },
      "source": [
        "The Marketing department of Adventure Works Cycles wants to increase sales by targeting specific\n",
        "customers for a mailing campaign. The company's database contains a list of past customers and a list of\n",
        "potential new customers. By investigating the attributes of previous bike buyers, the company hopes to\n",
        "discover patterns that they can then apply to potential customers. They hope to use the discovered patterns\n",
        "to predict which potential customers are most likely to purchase a bike from Adventure Works Cycles.\n"
      ]
    },
    {
      "cell_type": "code",
      "metadata": {
        "id": "-8DxlXNVaBiJ",
        "colab": {
          "base_uri": "https://localhost:8080/"
        },
        "outputId": "62e62896-e043-40a9-da6d-fa834484c588"
      },
      "source": [
        "# Mounting Google Drive\n",
        "from google.colab import drive\n",
        "drive.mount('/content/gdrive')"
      ],
      "execution_count": null,
      "outputs": [
        {
          "output_type": "stream",
          "text": [
            "Drive already mounted at /content/gdrive; to attempt to forcibly remount, call drive.mount(\"/content/gdrive\", force_remount=True).\n"
          ],
          "name": "stdout"
        }
      ]
    },
    {
      "cell_type": "code",
      "metadata": {
        "id": "_Q-Fiem1XULj"
      },
      "source": [
        "import os\n",
        "os.environ['KAGGLE_CONFIG_DIR'] = \"/content/gdrive/My Drive/Kaggle\"\n",
        "# /content/gdrive/My Drive/Kaggle is the path where kaggle.json is present in the Google Drive"
      ],
      "execution_count": null,
      "outputs": []
    },
    {
      "cell_type": "code",
      "metadata": {
        "colab": {
          "base_uri": "https://localhost:8080/",
          "height": 56
        },
        "id": "1hqUvqndXvBA",
        "outputId": "09eef069-fc43-4a33-f841-cb90de8fa6ac"
      },
      "source": [
        "#changing the working directory\n",
        "%cd /content/gdrive/My Drive/Kaggle\n",
        "#Check the present working directory using pwd command\n",
        "%pwd"
      ],
      "execution_count": null,
      "outputs": [
        {
          "output_type": "stream",
          "text": [
            "/content/gdrive/My Drive/Kaggle\n"
          ],
          "name": "stdout"
        },
        {
          "output_type": "execute_result",
          "data": {
            "application/vnd.google.colaboratory.intrinsic+json": {
              "type": "string"
            },
            "text/plain": [
              "'/content/gdrive/My Drive/Kaggle'"
            ]
          },
          "metadata": {
            "tags": []
          },
          "execution_count": 3
        }
      ]
    },
    {
      "cell_type": "code",
      "metadata": {
        "colab": {
          "base_uri": "https://localhost:8080/"
        },
        "id": "Rs5VF3RnX3Ej",
        "outputId": "09cab48c-fe7b-4e6b-80bd-5286fc824c04"
      },
      "source": [
        "# Downloading the dataset \n",
        "!kaggle datasets download -d jahias/microsoft-adventure-works-cycles-customer-data\n",
        "!ls"
      ],
      "execution_count": null,
      "outputs": [
        {
          "output_type": "stream",
          "text": [
            "Traceback (most recent call last):\n",
            "  File \"/usr/local/bin/kaggle\", line 5, in <module>\n",
            "    from kaggle.cli import main\n",
            "  File \"/usr/local/lib/python2.7/dist-packages/kaggle/__init__.py\", line 23, in <module>\n",
            "    api.authenticate()\n",
            "  File \"/usr/local/lib/python2.7/dist-packages/kaggle/api/kaggle_api_extended.py\", line 146, in authenticate\n",
            "    self.config_file, self.config_dir))\n",
            "IOError: Could not find kaggle.json. Make sure it's located in /root/.kaggle. Or use the environment method.\n",
            "sample_data\n"
          ],
          "name": "stdout"
        }
      ]
    },
    {
      "cell_type": "code",
      "metadata": {
        "colab": {
          "base_uri": "https://localhost:8080/"
        },
        "id": "_k2yC8DRYHWs",
        "outputId": "ebb7396d-441a-4e99-be2c-ef9f534e11bb"
      },
      "source": [
        "#unzipping the zip files and deleting the zip files\n",
        "!unzip \\*.zip  && rm *.zip"
      ],
      "execution_count": null,
      "outputs": [
        {
          "output_type": "stream",
          "text": [
            "Archive:  microsoft-adventure-works-cycles-customer-data.zip\n",
            "replace AWCustomers.csv? [y]es, [n]o, [A]ll, [N]one, [r]ename: n\n",
            "replace AWSales.csv? [y]es, [n]o, [A]ll, [N]one, [r]ename: n\n",
            "replace AWTest-Classification.csv? [y]es, [n]o, [A]ll, [N]one, [r]ename: n\n",
            "replace AWTest-Regression.csv? [y]es, [n]o, [A]ll, [N]one, [r]ename: n\n"
          ],
          "name": "stdout"
        }
      ]
    },
    {
      "cell_type": "markdown",
      "metadata": {
        "id": "1moEFIC9R6ZB"
      },
      "source": [
        "# **Part 1: Based on Feature Selection, Cleaning, and Preprocessing to Construct an Input from Data Source**"
      ]
    },
    {
      "cell_type": "code",
      "metadata": {
        "id": "I3Mx90DeYU62"
      },
      "source": [
        "import pandas as pd\n",
        "# Reading Data from CSV files\n",
        "customerData = pd.read_csv('AWCustomers.csv')\n",
        "salesData = pd.read_csv('AWSales.csv')\n",
        "# BikeBuyer is the target column"
      ],
      "execution_count": null,
      "outputs": []
    },
    {
      "cell_type": "code",
      "metadata": {
        "colab": {
          "base_uri": "https://localhost:8080/"
        },
        "id": "Dh7LUCvDumLS",
        "outputId": "88505e36-edf2-43a2-92f3-73257519ce5b"
      },
      "source": [
        "# Combining both the Datasets to analyse the features\n",
        "dataset = pd.merge(customerData,salesData,how='inner',on='CustomerID')\n",
        "dataset.nunique()\n",
        "dataset.shape"
      ],
      "execution_count": null,
      "outputs": [
        {
          "output_type": "execute_result",
          "data": {
            "text/plain": [
              "(18361, 26)"
            ]
          },
          "metadata": {
            "tags": []
          },
          "execution_count": 5
        }
      ]
    },
    {
      "cell_type": "markdown",
      "metadata": {
        "id": "j_7Z51LwTvjw"
      },
      "source": [
        "**a.) Examine the values of each attribute and Select a set of attributes only that would affect to predict\n",
        "future bike buyers to create your input for data mining algorithms. Remove all the unnecessary\n",
        "attributes. (Select features just by analysis).**"
      ]
    },
    {
      "cell_type": "code",
      "metadata": {
        "colab": {
          "base_uri": "https://localhost:8080/"
        },
        "id": "vUoj4p_fLQ9-",
        "outputId": "8b40edb9-8c45-49bf-cb4f-cf4cd7b62200"
      },
      "source": [
        "print(dataset['AddressLine2'].isna().sum())\n",
        "print(dataset['Suffix'].isna().sum())\n",
        "print(dataset['Title'].isna().sum())\n",
        "dataset.nunique(axis=0)"
      ],
      "execution_count": null,
      "outputs": [
        {
          "output_type": "stream",
          "text": [
            "18050\n",
            "18358\n",
            "18260\n"
          ],
          "name": "stdout"
        },
        {
          "output_type": "execute_result",
          "data": {
            "text/plain": [
              "CustomerID              18355\n",
              "Title                       5\n",
              "FirstName                 670\n",
              "MiddleName                 44\n",
              "LastName                  375\n",
              "Suffix                      1\n",
              "AddressLine1            12742\n",
              "AddressLine2              166\n",
              "City                      269\n",
              "StateProvinceName          54\n",
              "CountryRegionName           6\n",
              "PostalCode                323\n",
              "PhoneNumber              8836\n",
              "BirthDate                8230\n",
              "Education                   5\n",
              "Occupation                  5\n",
              "Gender                      2\n",
              "MaritalStatus               2\n",
              "HomeOwnerFlag               2\n",
              "NumberCarsOwned             6\n",
              "NumberChildrenAtHome        4\n",
              "TotalChildren               4\n",
              "YearlyIncome            15356\n",
              "LastUpdated                 2\n",
              "BikeBuyer                   2\n",
              "AvgMonthSpend            1803\n",
              "dtype: int64"
            ]
          },
          "metadata": {
            "tags": []
          },
          "execution_count": 6
        }
      ]
    },
    {
      "cell_type": "markdown",
      "metadata": {
        "id": "FMmatbSLT54R"
      },
      "source": [
        "**b.) Create a new Data Frame with the selected attributes only.**"
      ]
    },
    {
      "cell_type": "code",
      "metadata": {
        "colab": {
          "base_uri": "https://localhost:8080/",
          "height": 299
        },
        "id": "5tZDKucwQ-kZ",
        "outputId": "3631d997-1d08-4a0d-af31-e06be17ecede"
      },
      "source": [
        "#convert BirthDate to Age\n",
        "for i, row in dataset.iterrows():\n",
        "  age = 2021 - int(dataset.loc[i, 'BirthDate'][:4])\n",
        "  dataset.at[i, 'BirthDate'] = age\n",
        "dataset.rename(columns={'BirthDate':'Age', 'CountryRegionName': 'Country'}, inplace=True)\n",
        "dataset.head()"
      ],
      "execution_count": null,
      "outputs": [
        {
          "output_type": "execute_result",
          "data": {
            "text/html": [
              "<div>\n",
              "<style scoped>\n",
              "    .dataframe tbody tr th:only-of-type {\n",
              "        vertical-align: middle;\n",
              "    }\n",
              "\n",
              "    .dataframe tbody tr th {\n",
              "        vertical-align: top;\n",
              "    }\n",
              "\n",
              "    .dataframe thead th {\n",
              "        text-align: right;\n",
              "    }\n",
              "</style>\n",
              "<table border=\"1\" class=\"dataframe\">\n",
              "  <thead>\n",
              "    <tr style=\"text-align: right;\">\n",
              "      <th></th>\n",
              "      <th>CustomerID</th>\n",
              "      <th>Title</th>\n",
              "      <th>FirstName</th>\n",
              "      <th>MiddleName</th>\n",
              "      <th>LastName</th>\n",
              "      <th>Suffix</th>\n",
              "      <th>AddressLine1</th>\n",
              "      <th>AddressLine2</th>\n",
              "      <th>City</th>\n",
              "      <th>StateProvinceName</th>\n",
              "      <th>Country</th>\n",
              "      <th>PostalCode</th>\n",
              "      <th>PhoneNumber</th>\n",
              "      <th>Age</th>\n",
              "      <th>Education</th>\n",
              "      <th>Occupation</th>\n",
              "      <th>Gender</th>\n",
              "      <th>MaritalStatus</th>\n",
              "      <th>HomeOwnerFlag</th>\n",
              "      <th>NumberCarsOwned</th>\n",
              "      <th>NumberChildrenAtHome</th>\n",
              "      <th>TotalChildren</th>\n",
              "      <th>YearlyIncome</th>\n",
              "      <th>LastUpdated</th>\n",
              "      <th>BikeBuyer</th>\n",
              "      <th>AvgMonthSpend</th>\n",
              "    </tr>\n",
              "  </thead>\n",
              "  <tbody>\n",
              "    <tr>\n",
              "      <th>0</th>\n",
              "      <td>21173</td>\n",
              "      <td>NaN</td>\n",
              "      <td>Chad</td>\n",
              "      <td>C</td>\n",
              "      <td>Yuan</td>\n",
              "      <td>NaN</td>\n",
              "      <td>7090 C. Mount Hood</td>\n",
              "      <td>NaN</td>\n",
              "      <td>Wollongong</td>\n",
              "      <td>New South Wales</td>\n",
              "      <td>Australia</td>\n",
              "      <td>2500</td>\n",
              "      <td>1 (11) 500 555-0115</td>\n",
              "      <td>34</td>\n",
              "      <td>Bachelors</td>\n",
              "      <td>Clerical</td>\n",
              "      <td>M</td>\n",
              "      <td>M</td>\n",
              "      <td>1</td>\n",
              "      <td>3</td>\n",
              "      <td>0</td>\n",
              "      <td>1</td>\n",
              "      <td>81916</td>\n",
              "      <td>2017-03-06</td>\n",
              "      <td>1</td>\n",
              "      <td>50.97</td>\n",
              "    </tr>\n",
              "    <tr>\n",
              "      <th>1</th>\n",
              "      <td>13249</td>\n",
              "      <td>NaN</td>\n",
              "      <td>Ryan</td>\n",
              "      <td>NaN</td>\n",
              "      <td>Perry</td>\n",
              "      <td>NaN</td>\n",
              "      <td>3651 Willow Lake Rd</td>\n",
              "      <td>NaN</td>\n",
              "      <td>Shawnee</td>\n",
              "      <td>British Columbia</td>\n",
              "      <td>Canada</td>\n",
              "      <td>V9B 2C3</td>\n",
              "      <td>787-555-0136</td>\n",
              "      <td>49</td>\n",
              "      <td>Partial College</td>\n",
              "      <td>Clerical</td>\n",
              "      <td>M</td>\n",
              "      <td>M</td>\n",
              "      <td>1</td>\n",
              "      <td>2</td>\n",
              "      <td>1</td>\n",
              "      <td>2</td>\n",
              "      <td>81076</td>\n",
              "      <td>2017-03-06</td>\n",
              "      <td>1</td>\n",
              "      <td>53.11</td>\n",
              "    </tr>\n",
              "    <tr>\n",
              "      <th>2</th>\n",
              "      <td>29350</td>\n",
              "      <td>NaN</td>\n",
              "      <td>Julia</td>\n",
              "      <td>NaN</td>\n",
              "      <td>Thompson</td>\n",
              "      <td>NaN</td>\n",
              "      <td>1774 Tice Valley Blvd.</td>\n",
              "      <td>NaN</td>\n",
              "      <td>West Covina</td>\n",
              "      <td>California</td>\n",
              "      <td>United States</td>\n",
              "      <td>91791</td>\n",
              "      <td>120-555-0111</td>\n",
              "      <td>36</td>\n",
              "      <td>Bachelors</td>\n",
              "      <td>Clerical</td>\n",
              "      <td>F</td>\n",
              "      <td>S</td>\n",
              "      <td>0</td>\n",
              "      <td>3</td>\n",
              "      <td>0</td>\n",
              "      <td>0</td>\n",
              "      <td>86387</td>\n",
              "      <td>2017-03-06</td>\n",
              "      <td>1</td>\n",
              "      <td>54.08</td>\n",
              "    </tr>\n",
              "    <tr>\n",
              "      <th>3</th>\n",
              "      <td>13503</td>\n",
              "      <td>NaN</td>\n",
              "      <td>Theodore</td>\n",
              "      <td>NaN</td>\n",
              "      <td>Gomez</td>\n",
              "      <td>NaN</td>\n",
              "      <td>2103 Baldwin Dr</td>\n",
              "      <td>NaN</td>\n",
              "      <td>Liverpool</td>\n",
              "      <td>England</td>\n",
              "      <td>United Kingdom</td>\n",
              "      <td>L4 4HB</td>\n",
              "      <td>1 (11) 500 555-0167</td>\n",
              "      <td>44</td>\n",
              "      <td>Partial College</td>\n",
              "      <td>Skilled Manual</td>\n",
              "      <td>M</td>\n",
              "      <td>M</td>\n",
              "      <td>1</td>\n",
              "      <td>2</td>\n",
              "      <td>1</td>\n",
              "      <td>2</td>\n",
              "      <td>61481</td>\n",
              "      <td>2017-03-06</td>\n",
              "      <td>1</td>\n",
              "      <td>56.93</td>\n",
              "    </tr>\n",
              "    <tr>\n",
              "      <th>4</th>\n",
              "      <td>22803</td>\n",
              "      <td>NaN</td>\n",
              "      <td>Marshall</td>\n",
              "      <td>J</td>\n",
              "      <td>Shan</td>\n",
              "      <td>NaN</td>\n",
              "      <td>Am Gallberg 234</td>\n",
              "      <td>NaN</td>\n",
              "      <td>Werne</td>\n",
              "      <td>Nordrhein-Westfalen</td>\n",
              "      <td>Germany</td>\n",
              "      <td>59368</td>\n",
              "      <td>1 (11) 500 555-0113</td>\n",
              "      <td>46</td>\n",
              "      <td>Partial College</td>\n",
              "      <td>Skilled Manual</td>\n",
              "      <td>M</td>\n",
              "      <td>S</td>\n",
              "      <td>1</td>\n",
              "      <td>1</td>\n",
              "      <td>0</td>\n",
              "      <td>0</td>\n",
              "      <td>51804</td>\n",
              "      <td>2017-03-06</td>\n",
              "      <td>1</td>\n",
              "      <td>55.41</td>\n",
              "    </tr>\n",
              "  </tbody>\n",
              "</table>\n",
              "</div>"
            ],
            "text/plain": [
              "   CustomerID Title FirstName  ... LastUpdated BikeBuyer AvgMonthSpend\n",
              "0       21173   NaN      Chad  ...  2017-03-06         1         50.97\n",
              "1       13249   NaN      Ryan  ...  2017-03-06         1         53.11\n",
              "2       29350   NaN     Julia  ...  2017-03-06         1         54.08\n",
              "3       13503   NaN  Theodore  ...  2017-03-06         1         56.93\n",
              "4       22803   NaN  Marshall  ...  2017-03-06         1         55.41\n",
              "\n",
              "[5 rows x 26 columns]"
            ]
          },
          "metadata": {
            "tags": []
          },
          "execution_count": 7
        }
      ]
    },
    {
      "cell_type": "code",
      "metadata": {
        "colab": {
          "base_uri": "https://localhost:8080/"
        },
        "id": "CldDU_TELj8c",
        "outputId": "70da8b48-af19-4c54-e4dd-63f0ef843cf8"
      },
      "source": [
        "# As MiddleName,Title, Suffix are NULL in most of the row entries, \n",
        "# and There are about unique 12k entries in Address section, \n",
        "# 18k unique entries in CustomerID, PostalCode ,PhoneNumber,City and Last Updated \n",
        "# hence , these features wouldn't help the model much\n",
        "# There is already a Total Children column, \n",
        "# Hence NumberChildrenAtHome will be dropped\n",
        "\n",
        "dataset = dataset.drop(columns=[\"FirstName\",\"MiddleName\",\"LastName\",\"CustomerID\",\"PostalCode\",\"PhoneNumber\",\"LastUpdated\", \"Title\", \"Suffix\", \"AddressLine2\",\"AddressLine1\",\"NumberChildrenAtHome\",\"City\",\"StateProvinceName\"])\n",
        "dataset.nunique(axis=0)"
      ],
      "execution_count": null,
      "outputs": [
        {
          "output_type": "execute_result",
          "data": {
            "text/plain": [
              "Country                6\n",
              "Age                   70\n",
              "Education              5\n",
              "Occupation             5\n",
              "Gender                 2\n",
              "MaritalStatus          2\n",
              "HomeOwnerFlag          2\n",
              "NumberCarsOwned        6\n",
              "TotalChildren          4\n",
              "YearlyIncome       15356\n",
              "BikeBuyer              2\n",
              "AvgMonthSpend       1803\n",
              "dtype: int64"
            ]
          },
          "metadata": {
            "tags": []
          },
          "execution_count": 8
        }
      ]
    },
    {
      "cell_type": "markdown",
      "metadata": {
        "id": "tURYRrPGUIk5"
      },
      "source": [
        "**c.) Determine a Data value type (Discrete, or Continuous, then Nominal, Ordinal, Interval, Ratio) of\n",
        "each attribute in your selection to identify preprocessing tasks to create input for your data mining.**"
      ]
    },
    {
      "cell_type": "code",
      "metadata": {
        "colab": {
          "base_uri": "https://localhost:8080/"
        },
        "id": "pJFFFxByU49s",
        "outputId": "80109a03-5176-4c63-c351-6ae6d8e3c7d7"
      },
      "source": [
        "print(dataset.columns)"
      ],
      "execution_count": null,
      "outputs": [
        {
          "output_type": "stream",
          "text": [
            "Index(['Country', 'Age', 'Education', 'Occupation', 'Gender', 'MaritalStatus',\n",
            "       'HomeOwnerFlag', 'NumberCarsOwned', 'TotalChildren', 'YearlyIncome',\n",
            "       'BikeBuyer', 'AvgMonthSpend'],\n",
            "      dtype='object')\n"
          ],
          "name": "stdout"
        }
      ]
    },
    {
      "cell_type": "markdown",
      "metadata": {
        "id": "Nr16ZGXhTFAw"
      },
      "source": [
        "\n",
        "- **Country** : Discrete, Categorical Nominal\n",
        "- **Age** : Discrete,Numerical, Ratio\n",
        "- **Education**: Discrete,Categorical Ordinal\n",
        "- **Occupation**: Discrete, Categorical Nominal\n",
        "- **Gender**: Discrete, Categorical Nominal\n",
        "- **Marital Status**: Discrete, Categorical Nominal\n",
        "- **HomeOwnerFlag**: Discrete, Categorical Ordinal\n",
        "- **NumberCarsOwned**: Discrete, Categorical Ordinal\n",
        "- **TotalChildren**: Discrete, Categorical Ordinal\n",
        "- **YearlyIncome**: Continuous,Numerical and Ratio \n",
        "- **AvgMonthSpend**: Continuous,Numerical and Ratio"
      ]
    },
    {
      "cell_type": "markdown",
      "metadata": {
        "id": "7V-PHhmWd6s9"
      },
      "source": [
        "# **Part II: Data Preprocessing and Transformation**\n",
        "\n",
        "Depending on the data type of each attribute, transform each object from your preprocessed data.\n",
        "Use all the data rows (~= 18000 rows) with the selected features as input to apply all the tasks below, do\n",
        "not perform each task on the smaller data set that you got from your random sampling result."
      ]
    },
    {
      "cell_type": "markdown",
      "metadata": {
        "id": "t97Q-2D1eZsg"
      },
      "source": [
        "**(a) Handling Null values**"
      ]
    },
    {
      "cell_type": "code",
      "metadata": {
        "colab": {
          "base_uri": "https://localhost:8080/"
        },
        "id": "HwEpL6tMhUat",
        "outputId": "31f7b6b8-2fc3-4125-ba79-91fb4fb1e30c"
      },
      "source": [
        "# dataset = dataset.drop(columns=[\"MiddleName\"])\n",
        "dataset.isnull().values.any()\n",
        "# None NULL values present"
      ],
      "execution_count": null,
      "outputs": [
        {
          "output_type": "execute_result",
          "data": {
            "text/plain": [
              "False"
            ]
          },
          "metadata": {
            "tags": []
          },
          "execution_count": 10
        }
      ]
    },
    {
      "cell_type": "markdown",
      "metadata": {
        "id": "mbjuIgTPW_P4"
      },
      "source": [
        "**(b) Normalization, (d) Standardization**"
      ]
    },
    {
      "cell_type": "code",
      "metadata": {
        "colab": {
          "base_uri": "https://localhost:8080/",
          "height": 298
        },
        "id": "BFi3etn44OEu",
        "outputId": "94aa6a1f-1207-49c8-d06b-13f401173803"
      },
      "source": [
        "# Check Outliers\n",
        "import seaborn as sns\n",
        "sns.boxplot(x=dataset['YearlyIncome'])"
      ],
      "execution_count": null,
      "outputs": [
        {
          "output_type": "execute_result",
          "data": {
            "text/plain": [
              "<matplotlib.axes._subplots.AxesSubplot at 0x7f503552ae50>"
            ]
          },
          "metadata": {
            "tags": []
          },
          "execution_count": 11
        },
        {
          "output_type": "display_data",
          "data": {
            "image/png": "[encoded data removed]",
            "text/plain": [
              "<Figure size 432x288 with 1 Axes>"
            ]
          },
          "metadata": {
            "tags": [],
            "needs_background": "light"
          }
        }
      ]
    },
    {
      "cell_type": "code",
      "metadata": {
        "colab": {
          "base_uri": "https://localhost:8080/",
          "height": 298
        },
        "id": "geDzzJ_WWtLp",
        "outputId": "a74cd64d-fa3e-46d2-86c8-26409aa1fa5f"
      },
      "source": [
        "sns.boxplot(x=dataset['AvgMonthSpend'])"
      ],
      "execution_count": null,
      "outputs": [
        {
          "output_type": "execute_result",
          "data": {
            "text/plain": [
              "<matplotlib.axes._subplots.AxesSubplot at 0x7f50306e5490>"
            ]
          },
          "metadata": {
            "tags": []
          },
          "execution_count": 12
        },
        {
          "output_type": "display_data",
          "data": {
            "image/png": "[encoded data removed]",
            "text/plain": [
              "<Figure size 432x288 with 1 Axes>"
            ]
          },
          "metadata": {
            "tags": [],
            "needs_background": "light"
          }
        }
      ]
    },
    {
      "cell_type": "code",
      "metadata": {
        "colab": {
          "base_uri": "https://localhost:8080/",
          "height": 282
        },
        "id": "bLhfqW9FfAFE",
        "outputId": "4021875f-6f61-4e70-f5d7-35bda3e046b6"
      },
      "source": [
        "# Normalization of YearlyIncome, AvgMonthSpend\n",
        "from sklearn import preprocessing\n",
        "min_max_scalar = preprocessing.MinMaxScaler()\n",
        "scaled_income = min_max_scalar.fit_transform(dataset[['YearlyIncome']].values)\n",
        "scaled_spend = min_max_scalar.fit_transform(dataset[['AvgMonthSpend']].values)\n",
        "dataset['YearlyIncome'] = scaled_income\n",
        "dataset['AvgMonthSpend'] = scaled_spend\n",
        "dataset.rename(columns={'YearlyIncome':'YearlyIncome_scaled', 'AvgMonthSpend':'AvgMonthSpend_scaled'}, inplace=True)\n",
        "dataset.head()\n"
      ],
      "execution_count": null,
      "outputs": [
        {
          "output_type": "execute_result",
          "data": {
            "text/html": [
              "<div>\n",
              "<style scoped>\n",
              "    .dataframe tbody tr th:only-of-type {\n",
              "        vertical-align: middle;\n",
              "    }\n",
              "\n",
              "    .dataframe tbody tr th {\n",
              "        vertical-align: top;\n",
              "    }\n",
              "\n",
              "    .dataframe thead th {\n",
              "        text-align: right;\n",
              "    }\n",
              "</style>\n",
              "<table border=\"1\" class=\"dataframe\">\n",
              "  <thead>\n",
              "    <tr style=\"text-align: right;\">\n",
              "      <th></th>\n",
              "      <th>Country</th>\n",
              "      <th>Age</th>\n",
              "      <th>Education</th>\n",
              "      <th>Occupation</th>\n",
              "      <th>Gender</th>\n",
              "      <th>MaritalStatus</th>\n",
              "      <th>HomeOwnerFlag</th>\n",
              "      <th>NumberCarsOwned</th>\n",
              "      <th>TotalChildren</th>\n",
              "      <th>YearlyIncome_scaled</th>\n",
              "      <th>BikeBuyer</th>\n",
              "      <th>AvgMonthSpend_scaled</th>\n",
              "    </tr>\n",
              "  </thead>\n",
              "  <tbody>\n",
              "    <tr>\n",
              "      <th>0</th>\n",
              "      <td>Australia</td>\n",
              "      <td>34</td>\n",
              "      <td>Bachelors</td>\n",
              "      <td>Clerical</td>\n",
              "      <td>M</td>\n",
              "      <td>M</td>\n",
              "      <td>1</td>\n",
              "      <td>3</td>\n",
              "      <td>1</td>\n",
              "      <td>0.496842</td>\n",
              "      <td>1</td>\n",
              "      <td>0.324210</td>\n",
              "    </tr>\n",
              "    <tr>\n",
              "      <th>1</th>\n",
              "      <td>Canada</td>\n",
              "      <td>49</td>\n",
              "      <td>Partial College</td>\n",
              "      <td>Clerical</td>\n",
              "      <td>M</td>\n",
              "      <td>M</td>\n",
              "      <td>1</td>\n",
              "      <td>2</td>\n",
              "      <td>2</td>\n",
              "      <td>0.489453</td>\n",
              "      <td>1</td>\n",
              "      <td>0.425201</td>\n",
              "    </tr>\n",
              "    <tr>\n",
              "      <th>2</th>\n",
              "      <td>United States</td>\n",
              "      <td>36</td>\n",
              "      <td>Bachelors</td>\n",
              "      <td>Clerical</td>\n",
              "      <td>F</td>\n",
              "      <td>S</td>\n",
              "      <td>0</td>\n",
              "      <td>3</td>\n",
              "      <td>0</td>\n",
              "      <td>0.536172</td>\n",
              "      <td>1</td>\n",
              "      <td>0.470977</td>\n",
              "    </tr>\n",
              "    <tr>\n",
              "      <th>3</th>\n",
              "      <td>United Kingdom</td>\n",
              "      <td>44</td>\n",
              "      <td>Partial College</td>\n",
              "      <td>Skilled Manual</td>\n",
              "      <td>M</td>\n",
              "      <td>M</td>\n",
              "      <td>1</td>\n",
              "      <td>2</td>\n",
              "      <td>2</td>\n",
              "      <td>0.317083</td>\n",
              "      <td>1</td>\n",
              "      <td>0.605474</td>\n",
              "    </tr>\n",
              "    <tr>\n",
              "      <th>4</th>\n",
              "      <td>Germany</td>\n",
              "      <td>46</td>\n",
              "      <td>Partial College</td>\n",
              "      <td>Skilled Manual</td>\n",
              "      <td>M</td>\n",
              "      <td>S</td>\n",
              "      <td>1</td>\n",
              "      <td>1</td>\n",
              "      <td>0</td>\n",
              "      <td>0.231958</td>\n",
              "      <td>1</td>\n",
              "      <td>0.533742</td>\n",
              "    </tr>\n",
              "  </tbody>\n",
              "</table>\n",
              "</div>"
            ],
            "text/plain": [
              "          Country Age  ... BikeBuyer AvgMonthSpend_scaled\n",
              "0       Australia  34  ...         1             0.324210\n",
              "1          Canada  49  ...         1             0.425201\n",
              "2   United States  36  ...         1             0.470977\n",
              "3  United Kingdom  44  ...         1             0.605474\n",
              "4         Germany  46  ...         1             0.533742\n",
              "\n",
              "[5 rows x 12 columns]"
            ]
          },
          "metadata": {
            "tags": []
          },
          "execution_count": 13
        }
      ]
    },
    {
      "cell_type": "markdown",
      "metadata": {
        "id": "tvv9QBwnXrqn"
      },
      "source": [
        "**(c) Discretization (Binning) on Continuous attributes or Categorical Attributes with too many different\n",
        "values**"
      ]
    },
    {
      "cell_type": "code",
      "metadata": {
        "colab": {
          "base_uri": "https://localhost:8080/"
        },
        "id": "xkUC-26rX9Zz",
        "outputId": "2e139c2c-151e-4bd1-a9ad-3f1f70b06991"
      },
      "source": [
        "# Discretization or Binning on continuous attributes.\n",
        "# We perform binning on Age. \n",
        "# Making two categories of young and old \n",
        "# based on the boxplot\n",
        "\n",
        "#Find Maximum Minimum Value\n",
        "min_value = dataset['Age'].min()\n",
        "max_value = dataset['Age'].max()\n",
        "print (min_value)\n",
        "print(max_value)\n",
        "\n",
        "#Since we have 2 groups, we need 3 intervals\n",
        "labels = ['young','old']\n",
        "dataset['Age'] = pd.qcut(dataset['Age'], q=2, precision=1, labels=labels)"
      ],
      "execution_count": null,
      "outputs": [
        {
          "output_type": "stream",
          "text": [
            "21\n",
            "91\n"
          ],
          "name": "stdout"
        }
      ]
    },
    {
      "cell_type": "code",
      "metadata": {
        "colab": {
          "base_uri": "https://localhost:8080/",
          "height": 422
        },
        "id": "LVKep9PNYQfC",
        "outputId": "23527b81-732e-4591-b0a9-cf9ed24c6a6b"
      },
      "source": [
        "import matplotlib.pyplot as plt\n",
        "print(dataset.head())\n",
        "plt.hist(dataset['Age'], bins=2)\n",
        "plt.show()"
      ],
      "execution_count": null,
      "outputs": [
        {
          "output_type": "stream",
          "text": [
            "          Country    Age  ... BikeBuyer AvgMonthSpend_scaled\n",
            "0       Australia  young  ...         1             0.324210\n",
            "1          Canada    old  ...         1             0.425201\n",
            "2   United States  young  ...         1             0.470977\n",
            "3  United Kingdom    old  ...         1             0.605474\n",
            "4         Germany    old  ...         1             0.533742\n",
            "\n",
            "[5 rows x 12 columns]\n"
          ],
          "name": "stdout"
        },
        {
          "output_type": "display_data",
          "data": {
            "image/png": "[encoded data removed]",
            "text/plain": [
              "<Figure size 432x288 with 1 Axes>"
            ]
          },
          "metadata": {
            "tags": [],
            "needs_background": "light"
          }
        }
      ]
    },
    {
      "cell_type": "markdown",
      "metadata": {
        "id": "UjJAISWIaD4H"
      },
      "source": [
        "**(e) Binarization (One Hot Encoding)**"
      ]
    },
    {
      "cell_type": "code",
      "metadata": {
        "id": "PY9CfDhpY4ty"
      },
      "source": [
        "#Manually Encoding Label for Education feature\n",
        "edu_dict = {'Partial High School':0,'High School':1,'Partial College':2,'Bachelors':3,'Graduate Degree':4}\n",
        "for i, row in dataset.iterrows():\n",
        "    ed = dataset.loc[i,'Education']\n",
        "    dataset.at[i,'Education'] = edu_dict[ed]"
      ],
      "execution_count": null,
      "outputs": []
    },
    {
      "cell_type": "code",
      "metadata": {
        "id": "BA9az8GCagVR"
      },
      "source": [
        "#One Hot Encoding of Nominal Features: Gender, Marital Satus, Country, Occupation\n",
        "dataset['Age_'] = pd.get_dummies(dataset.Age,drop_first=True)\n",
        "dataset['Gender_'] = pd.get_dummies(dataset.Gender,drop_first=True)\n",
        "dataset['MaritalStatus_'] = pd.get_dummies(dataset.MaritalStatus,drop_first=True)\n",
        "df1 = pd.get_dummies(dataset.Country,drop_first=True)\n",
        "df2 = pd.get_dummies(dataset.Occupation,drop_first=True)\n",
        "dataset = pd.concat([dataset, df1, df2], axis=1)"
      ],
      "execution_count": null,
      "outputs": []
    },
    {
      "cell_type": "code",
      "metadata": {
        "colab": {
          "base_uri": "https://localhost:8080/",
          "height": 438
        },
        "id": "aRF1nNlAbSMX",
        "outputId": "362e7842-18ae-49da-ecf4-ea1b2e78147c"
      },
      "source": [
        "dataset.drop(columns = ['Gender','Country','Age','Occupation','MaritalStatus'],inplace=True)\n",
        "dataset"
      ],
      "execution_count": null,
      "outputs": [
        {
          "output_type": "execute_result",
          "data": {
            "text/html": [
              "<div>\n",
              "<style scoped>\n",
              "    .dataframe tbody tr th:only-of-type {\n",
              "        vertical-align: middle;\n",
              "    }\n",
              "\n",
              "    .dataframe tbody tr th {\n",
              "        vertical-align: top;\n",
              "    }\n",
              "\n",
              "    .dataframe thead th {\n",
              "        text-align: right;\n",
              "    }\n",
              "</style>\n",
              "<table border=\"1\" class=\"dataframe\">\n",
              "  <thead>\n",
              "    <tr style=\"text-align: right;\">\n",
              "      <th></th>\n",
              "      <th>Education</th>\n",
              "      <th>HomeOwnerFlag</th>\n",
              "      <th>NumberCarsOwned</th>\n",
              "      <th>TotalChildren</th>\n",
              "      <th>YearlyIncome_scaled</th>\n",
              "      <th>BikeBuyer</th>\n",
              "      <th>AvgMonthSpend_scaled</th>\n",
              "      <th>Age_</th>\n",
              "      <th>Gender_</th>\n",
              "      <th>MaritalStatus_</th>\n",
              "      <th>Canada</th>\n",
              "      <th>France</th>\n",
              "      <th>Germany</th>\n",
              "      <th>United Kingdom</th>\n",
              "      <th>United States</th>\n",
              "      <th>Management</th>\n",
              "      <th>Manual</th>\n",
              "      <th>Professional</th>\n",
              "      <th>Skilled Manual</th>\n",
              "    </tr>\n",
              "  </thead>\n",
              "  <tbody>\n",
              "    <tr>\n",
              "      <th>0</th>\n",
              "      <td>3</td>\n",
              "      <td>1</td>\n",
              "      <td>3</td>\n",
              "      <td>1</td>\n",
              "      <td>0.496842</td>\n",
              "      <td>1</td>\n",
              "      <td>0.324210</td>\n",
              "      <td>0</td>\n",
              "      <td>1</td>\n",
              "      <td>0</td>\n",
              "      <td>0</td>\n",
              "      <td>0</td>\n",
              "      <td>0</td>\n",
              "      <td>0</td>\n",
              "      <td>0</td>\n",
              "      <td>0</td>\n",
              "      <td>0</td>\n",
              "      <td>0</td>\n",
              "      <td>0</td>\n",
              "    </tr>\n",
              "    <tr>\n",
              "      <th>1</th>\n",
              "      <td>2</td>\n",
              "      <td>1</td>\n",
              "      <td>2</td>\n",
              "      <td>2</td>\n",
              "      <td>0.489453</td>\n",
              "      <td>1</td>\n",
              "      <td>0.425201</td>\n",
              "      <td>1</td>\n",
              "      <td>1</td>\n",
              "      <td>0</td>\n",
              "      <td>1</td>\n",
              "      <td>0</td>\n",
              "      <td>0</td>\n",
              "      <td>0</td>\n",
              "      <td>0</td>\n",
              "      <td>0</td>\n",
              "      <td>0</td>\n",
              "      <td>0</td>\n",
              "      <td>0</td>\n",
              "    </tr>\n",
              "    <tr>\n",
              "      <th>2</th>\n",
              "      <td>3</td>\n",
              "      <td>0</td>\n",
              "      <td>3</td>\n",
              "      <td>0</td>\n",
              "      <td>0.536172</td>\n",
              "      <td>1</td>\n",
              "      <td>0.470977</td>\n",
              "      <td>0</td>\n",
              "      <td>0</td>\n",
              "      <td>1</td>\n",
              "      <td>0</td>\n",
              "      <td>0</td>\n",
              "      <td>0</td>\n",
              "      <td>0</td>\n",
              "      <td>1</td>\n",
              "      <td>0</td>\n",
              "      <td>0</td>\n",
              "      <td>0</td>\n",
              "      <td>0</td>\n",
              "    </tr>\n",
              "    <tr>\n",
              "      <th>3</th>\n",
              "      <td>2</td>\n",
              "      <td>1</td>\n",
              "      <td>2</td>\n",
              "      <td>2</td>\n",
              "      <td>0.317083</td>\n",
              "      <td>1</td>\n",
              "      <td>0.605474</td>\n",
              "      <td>1</td>\n",
              "      <td>1</td>\n",
              "      <td>0</td>\n",
              "      <td>0</td>\n",
              "      <td>0</td>\n",
              "      <td>0</td>\n",
              "      <td>1</td>\n",
              "      <td>0</td>\n",
              "      <td>0</td>\n",
              "      <td>0</td>\n",
              "      <td>0</td>\n",
              "      <td>1</td>\n",
              "    </tr>\n",
              "    <tr>\n",
              "      <th>4</th>\n",
              "      <td>2</td>\n",
              "      <td>1</td>\n",
              "      <td>1</td>\n",
              "      <td>0</td>\n",
              "      <td>0.231958</td>\n",
              "      <td>1</td>\n",
              "      <td>0.533742</td>\n",
              "      <td>1</td>\n",
              "      <td>1</td>\n",
              "      <td>1</td>\n",
              "      <td>0</td>\n",
              "      <td>0</td>\n",
              "      <td>1</td>\n",
              "      <td>0</td>\n",
              "      <td>0</td>\n",
              "      <td>0</td>\n",
              "      <td>0</td>\n",
              "      <td>0</td>\n",
              "      <td>1</td>\n",
              "    </tr>\n",
              "    <tr>\n",
              "      <th>...</th>\n",
              "      <td>...</td>\n",
              "      <td>...</td>\n",
              "      <td>...</td>\n",
              "      <td>...</td>\n",
              "      <td>...</td>\n",
              "      <td>...</td>\n",
              "      <td>...</td>\n",
              "      <td>...</td>\n",
              "      <td>...</td>\n",
              "      <td>...</td>\n",
              "      <td>...</td>\n",
              "      <td>...</td>\n",
              "      <td>...</td>\n",
              "      <td>...</td>\n",
              "      <td>...</td>\n",
              "      <td>...</td>\n",
              "      <td>...</td>\n",
              "      <td>...</td>\n",
              "      <td>...</td>\n",
              "    </tr>\n",
              "    <tr>\n",
              "      <th>18356</th>\n",
              "      <td>4</td>\n",
              "      <td>0</td>\n",
              "      <td>1</td>\n",
              "      <td>2</td>\n",
              "      <td>0.242065</td>\n",
              "      <td>0</td>\n",
              "      <td>0.190656</td>\n",
              "      <td>0</td>\n",
              "      <td>0</td>\n",
              "      <td>0</td>\n",
              "      <td>0</td>\n",
              "      <td>0</td>\n",
              "      <td>0</td>\n",
              "      <td>0</td>\n",
              "      <td>1</td>\n",
              "      <td>0</td>\n",
              "      <td>0</td>\n",
              "      <td>0</td>\n",
              "      <td>1</td>\n",
              "    </tr>\n",
              "    <tr>\n",
              "      <th>18357</th>\n",
              "      <td>3</td>\n",
              "      <td>0</td>\n",
              "      <td>2</td>\n",
              "      <td>0</td>\n",
              "      <td>0.312781</td>\n",
              "      <td>1</td>\n",
              "      <td>0.289287</td>\n",
              "      <td>0</td>\n",
              "      <td>0</td>\n",
              "      <td>1</td>\n",
              "      <td>0</td>\n",
              "      <td>0</td>\n",
              "      <td>0</td>\n",
              "      <td>0</td>\n",
              "      <td>0</td>\n",
              "      <td>0</td>\n",
              "      <td>0</td>\n",
              "      <td>0</td>\n",
              "      <td>1</td>\n",
              "    </tr>\n",
              "    <tr>\n",
              "      <th>18358</th>\n",
              "      <td>2</td>\n",
              "      <td>0</td>\n",
              "      <td>2</td>\n",
              "      <td>0</td>\n",
              "      <td>0.232442</td>\n",
              "      <td>1</td>\n",
              "      <td>0.257669</td>\n",
              "      <td>0</td>\n",
              "      <td>0</td>\n",
              "      <td>1</td>\n",
              "      <td>0</td>\n",
              "      <td>0</td>\n",
              "      <td>0</td>\n",
              "      <td>0</td>\n",
              "      <td>1</td>\n",
              "      <td>0</td>\n",
              "      <td>0</td>\n",
              "      <td>0</td>\n",
              "      <td>1</td>\n",
              "    </tr>\n",
              "    <tr>\n",
              "      <th>18359</th>\n",
              "      <td>1</td>\n",
              "      <td>0</td>\n",
              "      <td>0</td>\n",
              "      <td>0</td>\n",
              "      <td>0.543121</td>\n",
              "      <td>0</td>\n",
              "      <td>0.345446</td>\n",
              "      <td>0</td>\n",
              "      <td>0</td>\n",
              "      <td>1</td>\n",
              "      <td>1</td>\n",
              "      <td>0</td>\n",
              "      <td>0</td>\n",
              "      <td>0</td>\n",
              "      <td>0</td>\n",
              "      <td>0</td>\n",
              "      <td>0</td>\n",
              "      <td>0</td>\n",
              "      <td>0</td>\n",
              "    </tr>\n",
              "    <tr>\n",
              "      <th>18360</th>\n",
              "      <td>4</td>\n",
              "      <td>1</td>\n",
              "      <td>2</td>\n",
              "      <td>0</td>\n",
              "      <td>0.980128</td>\n",
              "      <td>1</td>\n",
              "      <td>0.385559</td>\n",
              "      <td>0</td>\n",
              "      <td>0</td>\n",
              "      <td>0</td>\n",
              "      <td>0</td>\n",
              "      <td>0</td>\n",
              "      <td>0</td>\n",
              "      <td>0</td>\n",
              "      <td>1</td>\n",
              "      <td>0</td>\n",
              "      <td>0</td>\n",
              "      <td>1</td>\n",
              "      <td>0</td>\n",
              "    </tr>\n",
              "  </tbody>\n",
              "</table>\n",
              "<p>18361 rows × 19 columns</p>\n",
              "</div>"
            ],
            "text/plain": [
              "      Education  HomeOwnerFlag  ...  Professional  Skilled Manual\n",
              "0             3              1  ...             0               0\n",
              "1             2              1  ...             0               0\n",
              "2             3              0  ...             0               0\n",
              "3             2              1  ...             0               1\n",
              "4             2              1  ...             0               1\n",
              "...         ...            ...  ...           ...             ...\n",
              "18356         4              0  ...             0               1\n",
              "18357         3              0  ...             0               1\n",
              "18358         2              0  ...             0               1\n",
              "18359         1              0  ...             0               0\n",
              "18360         4              1  ...             1               0\n",
              "\n",
              "[18361 rows x 19 columns]"
            ]
          },
          "metadata": {
            "tags": []
          },
          "execution_count": 18
        }
      ]
    },
    {
      "cell_type": "markdown",
      "metadata": {
        "id": "xeJ2niJgcCT8"
      },
      "source": [
        "**Part III: Calculating Proximity /Correlation Analysis of two features**\n",
        "\n",
        "Make sure each attribute is transformed in a same scale for numeric attributes and Binarization for each\n",
        "nominal attribute, and each discretized numeric attribute to standardization. Make sure to apply a correct\n",
        "similarity measure for nominal (one hot encoding)/binary attributes and numeric attributes respectively."
      ]
    },
    {
      "cell_type": "markdown",
      "metadata": {
        "id": "RaWECS64dGW4"
      },
      "source": [
        "**(a) Calculate Similarity in Simple Matching, Jaccard Similarity, and Cosine Similarity between two\n",
        "following objects of your transformed input data.**"
      ]
    },
    {
      "cell_type": "code",
      "metadata": {
        "id": "JO9BxuU5dzuG"
      },
      "source": [
        "from math import*\n",
        "def square_rooted(x):\n",
        "  return round(sqrt(sum([a*a for a in x])),3)\n",
        "\n",
        "def SMC(x,y):\n",
        "  x,y = x.values, y.values\n",
        "  return np.sum(x==y)/len(x)\n",
        "\n",
        "def cosine_similarity(x,y):\n",
        " numerator = sum(a*b for a,b in zip(x,y))\n",
        " denominator = square_rooted(x)*square_rooted(y)\n",
        " return round(numerator/float(denominator),3)\n",
        "\n",
        "def jaccard_similarity(x,y):\n",
        " intersection_cardinality = len(set.intersection(*[set(x), set(y)]))\n",
        " union_cardinality = len(set.union(*[set(x), set(y)]))\n",
        " return intersection_cardinality/float(union_cardinality)"
      ],
      "execution_count": null,
      "outputs": []
    },
    {
      "cell_type": "code",
      "metadata": {
        "colab": {
          "base_uri": "https://localhost:8080/"
        },
        "id": "d5ivmsx3jKBL",
        "outputId": "c62c9182-31cd-4cc8-a702-c72390d064f1"
      },
      "source": [
        "import numpy as np\n",
        "print('Simple Matching Coefficient:',SMC(dataset['HomeOwnerFlag'], dataset['Gender_']))\n",
        "print('Jaccard Similarity Score:',jaccard_similarity(dataset['HomeOwnerFlag'], dataset['Age_']))\n",
        "print('Cosine Similarity Score:',cosine_similarity(dataset['HomeOwnerFlag'], dataset['TotalChildren']))"
      ],
      "execution_count": null,
      "outputs": [
        {
          "output_type": "stream",
          "text": [
            "Simple Matching Coefficient: 0.5061271172594085\n",
            "Jaccard Similarity Score: 1.0\n",
            "Cosine Similarity Score: 0.794\n"
          ],
          "name": "stdout"
        }
      ]
    },
    {
      "cell_type": "markdown",
      "metadata": {
        "id": "AEwaRUCYdQ_p"
      },
      "source": [
        "**(b) Calculate Correlation between two features Commute Distance and Yearly Income**"
      ]
    },
    {
      "cell_type": "code",
      "metadata": {
        "colab": {
          "base_uri": "https://localhost:8080/",
          "height": 705
        },
        "id": "yRzyFL7eDr6Q",
        "outputId": "ad6d00ff-3a00-4bf2-b370-48e1a9170308"
      },
      "source": [
        "# Analysis using HeatMap\n",
        "import seaborn as sns\n",
        "import matplotlib.pyplot as plt\n",
        "%matplotlib inline\n",
        "# Get Correlation Matrix\n",
        "corrmat = dataset.corr()\n",
        "#Plotting HeatMap\n",
        "plt.figure(figsize = (19,19))\n",
        "sns.heatmap(corrmat,annot = True)"
      ],
      "execution_count": null,
      "outputs": [
        {
          "output_type": "execute_result",
          "data": {
            "text/plain": [
              "<matplotlib.axes._subplots.AxesSubplot at 0x7f503eafe310>"
            ]
          },
          "metadata": {
            "tags": []
          },
          "execution_count": 22
        },
        {
          "output_type": "display_data",
          "data": {
            "image/png": "[encoded data removed]",
            "text/plain": [
              "<Figure size 1368x1368 with 2 Axes>"
            ]
          },
          "metadata": {
            "tags": [],
            "needs_background": "light"
          }
        }
      ]
    },
    {
      "cell_type": "markdown",
      "metadata": {
        "id": "V-Qn7xT0nMhA"
      },
      "source": [
        "\n",
        "\n",
        "---\n",
        "\n"
      ]
    }
  ]
}