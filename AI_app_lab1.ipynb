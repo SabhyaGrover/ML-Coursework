{
  "nbformat": 4,
  "nbformat_minor": 0,
  "metadata": {
    "colab": {
      "name": "AI_app_lab1.ipynb",
      "provenance": [],
      "authorship_tag": "ABX9TyPhtv6Q6jmz8mOI8Jo7967p",
      "include_colab_link": true
    },
    "kernelspec": {
      "name": "python3",
      "display_name": "Python 3"
    },
    "language_info": {
      "name": "python"
    }
  },
  "cells": [
    {
      "cell_type": "markdown",
      "metadata": {
        "id": "view-in-github",
        "colab_type": "text"
      },
      "source": [
        "<a href=\"https://colab.research.google.com/github/SabhyaGrover/Data-Science-UCS655/blob/main/AI_app_lab1.ipynb\" target=\"_parent\"><img src=\"https://colab.research.google.com/assets/colab-badge.svg\" alt=\"Open In Colab\"/></a>"
      ]
    },
    {
      "cell_type": "markdown",
      "metadata": {
        "id": "C3v6EboZldTY"
      },
      "source": [
        "# Lab 1 - Python Basics"
      ]
    },
    {
      "cell_type": "markdown",
      "metadata": {
        "id": "8rleIHColo8H"
      },
      "source": [
        "**Q1.** Split this string\n",
        "s = \"Hi there Class!\"\n",
        "into a list."
      ]
    },
    {
      "cell_type": "code",
      "metadata": {
        "colab": {
          "base_uri": "https://localhost:8080/"
        },
        "id": "-lcMPVdLlC8E",
        "outputId": "26655671-4c5d-40eb-9d44-c530eabc0a15"
      },
      "source": [
        "s = \"Hi there Class!\"\n",
        "print(s.split())"
      ],
      "execution_count": null,
      "outputs": [
        {
          "output_type": "stream",
          "text": [
            "['Hi', 'there', 'Class!']\n"
          ],
          "name": "stdout"
        }
      ]
    },
    {
      "cell_type": "markdown",
      "metadata": {
        "id": "LUakBnQknQRw"
      },
      "source": [
        "**Q2.** Given the variables\n",
        "planet = \"Earth\"\n",
        "diameter = 12742\n",
        "Use .format() to print the following string:\n",
        "The diameter of Earth is 12742 kilometers."
      ]
    },
    {
      "cell_type": "code",
      "metadata": {
        "colab": {
          "base_uri": "https://localhost:8080/"
        },
        "id": "UNW_pR9NmIN0",
        "outputId": "e8d4c84b-0f21-4ee0-9c3f-bb03f03abcb6"
      },
      "source": [
        "x = \"The diameter of {planet} is {diameter} kilometers.\"\n",
        "print(x.format(planet = \"Earth\",diameter = 12742))"
      ],
      "execution_count": null,
      "outputs": [
        {
          "output_type": "stream",
          "text": [
            "The diameter of Earth is 12742 kilometers.\n"
          ],
          "name": "stdout"
        }
      ]
    },
    {
      "cell_type": "markdown",
      "metadata": {
        "id": "XxNrjAkyoIed"
      },
      "source": [
        "**Q3.** Given this nested list, use indexing to grab the word \"hello\"\n",
        "\n",
        "lst = [1,2,[3,4],[5,[100,200,['hello']],23,11],1,7]"
      ]
    },
    {
      "cell_type": "code",
      "metadata": {
        "colab": {
          "base_uri": "https://localhost:8080/"
        },
        "id": "C0gKCtqinzvC",
        "outputId": "71c72bc2-1c9a-4507-9bc0-5a069e5c3b51"
      },
      "source": [
        "lst=[1,2,[3,4],[5,[100,200,['hello']],23,11],1,7]\n",
        "print(lst[3][1][2])"
      ],
      "execution_count": null,
      "outputs": [
        {
          "output_type": "stream",
          "text": [
            "['hello']\n"
          ],
          "name": "stdout"
        }
      ]
    },
    {
      "cell_type": "markdown",
      "metadata": {
        "id": "dIZiAYR1pZ5Y"
      },
      "source": [
        "**Q4.** Given this nested dictionary grab the word \"hello\".\n",
        "\n",
        "d = {'k1':[1,2,3,{'tricky':['oh','man','inception',{'target':[1,2,3,'hello']}]}]}"
      ]
    },
    {
      "cell_type": "code",
      "metadata": {
        "colab": {
          "base_uri": "https://localhost:8080/"
        },
        "id": "WX3SOFn5pDmJ",
        "outputId": "10ba619a-7dd1-4d6a-b7f5-e7c6cecb170a"
      },
      "source": [
        "d = {'k1':[1,2,3,{'tricky':['oh','man','inception',{'target':[1,2,3,'hello']}]}]}\n",
        "print(d['k1'][3]['tricky'][3]['target'][3])"
      ],
      "execution_count": null,
      "outputs": [
        {
          "output_type": "stream",
          "text": [
            "hello\n"
          ],
          "name": "stdout"
        }
      ]
    },
    {
      "cell_type": "markdown",
      "metadata": {
        "id": "-WO4EpwtqTY9"
      },
      "source": [
        "**Q5.** Create a function that grabs the email website domain from a string in the form:\n",
        "user@domain.com"
      ]
    },
    {
      "cell_type": "code",
      "metadata": {
        "colab": {
          "base_uri": "https://localhost:8080/"
        },
        "id": "AkSb00qHqNCq",
        "outputId": "99554c8a-a3ac-48dc-ee75-de90bacbcae4"
      },
      "source": [
        "import re\n",
        "emailStr = \"sgrover_be18@thapar.edu\"\n",
        "print(re.findall('@(\\w+)',emailStr))\n",
        "# Using regex :\n",
        "# ( capturing group for extraction )\n",
        "# \\w stands for word character [A-Za-z0-9_]\n",
        "# + is a quantifier for one or more occurances of \\w\n"
      ],
      "execution_count": null,
      "outputs": [
        {
          "output_type": "stream",
          "text": [
            "['thapar']\n"
          ],
          "name": "stdout"
        }
      ]
    },
    {
      "cell_type": "markdown",
      "metadata": {
        "id": "T6QYpOrxsHJs"
      },
      "source": [
        "**Q6.** Create a basic function that returns True if the word 'dog' is contained in the input string."
      ]
    },
    {
      "cell_type": "code",
      "metadata": {
        "colab": {
          "base_uri": "https://localhost:8080/"
        },
        "id": "Fcxf2asXrIg4",
        "outputId": "d2f61469-df90-4902-f4c7-1aec67516a99"
      },
      "source": [
        "st = input(\"Enter a string:\")\n",
        "\n",
        "def present(s):\n",
        "  if(re.match('dog',s)):\n",
        "    # Returns True if re.match() returns an Object\n",
        "    return True\n",
        "  else:\n",
        "    # Returns False if re.match() returns None\n",
        "    return False\n",
        "\n",
        "present(st)\n"
      ],
      "execution_count": null,
      "outputs": [
        {
          "output_type": "stream",
          "text": [
            "Enter a string:doggo\n"
          ],
          "name": "stdout"
        },
        {
          "output_type": "execute_result",
          "data": {
            "text/plain": [
              "True"
            ]
          },
          "metadata": {
            "tags": []
          },
          "execution_count": 10
        }
      ]
    },
    {
      "cell_type": "markdown",
      "metadata": {
        "id": "8SwDcSBO61eu"
      },
      "source": [
        "**Q7.** Create a function that counts the number of times the word \"dog\" occurs in a string."
      ]
    },
    {
      "cell_type": "code",
      "metadata": {
        "colab": {
          "base_uri": "https://localhost:8080/"
        },
        "id": "ANKB6FcksTys",
        "outputId": "6303f15c-465c-4ff4-9d29-6738c14b206e"
      },
      "source": [
        "st = input(\"Enter a string:\")\n",
        "def countFreq(s):\n",
        "  # re.findall() returns a list of all occurences of the pattern\n",
        "  return len(re.findall('dog',st))\n",
        "\n",
        "print(\"dog comes {f} times\".format(f = countFreq(st)))\n"
      ],
      "execution_count": null,
      "outputs": [
        {
          "output_type": "stream",
          "text": [
            "Enter a string:doggo dog\n",
            "dog comes 2 times\n"
          ],
          "name": "stdout"
        }
      ]
    },
    {
      "cell_type": "markdown",
      "metadata": {
        "id": "J41U67Gr7g6Y"
      },
      "source": [
        "**Q8.** Use lambda expressions and the filter() function to filter out words from a list that don't start with the\n",
        "letter 's'.\n",
        "\n",
        "For example: seq = ['soup','dog','salad','cat','great']"
      ]
    },
    {
      "cell_type": "code",
      "metadata": {
        "colab": {
          "base_uri": "https://localhost:8080/"
        },
        "id": "Nhtuf-5A6tMX",
        "outputId": "3d9ce5dc-e9af-4cae-fe7e-bb694c31b1a4"
      },
      "source": [
        "seq = ['soup','dog','salad','cat','great']\n",
        "\n",
        "# Filter function for getting words starting with 's'\n",
        "def filterS(word):\n",
        "  if(word[0] == 's'):\n",
        "    return True\n",
        "  else:\n",
        "    return False\n",
        "\n",
        "# Lambda funtion for getting words not starting with 's'\n",
        "notStartingWithS = [ x for x in seq if x[0] != 's']\n",
        "startingWithS = filter(filterS,seq)\n",
        "print(list(startingWithS))\n",
        "print(notStartingWithS)"
      ],
      "execution_count": null,
      "outputs": [
        {
          "output_type": "stream",
          "text": [
            "['soup', 'salad']\n",
            "['dog', 'cat', 'great']\n"
          ],
          "name": "stdout"
        }
      ]
    },
    {
      "cell_type": "markdown",
      "metadata": {
        "id": "P2r8Ii3z9T4H"
      },
      "source": [
        "**Q9.** You are driving a little too fast, and a police officer stops you. Write a function to return one of 3 possible results: \"No Challan\", \"Small Challan\", or \"Heavy Challan\". If your speed is 60 or less, the result is\n",
        "\"No Challan\". If speed is between 61 and 80 inclusive, the result is \"Small Challan\". If speed is 81 or mor\n",
        "e, the result is \"Heavy Challan\". Unless it is your birthday (encoded as a Boolean value in the parameters\n",
        "of the function) -- on your birthday, your speed can be 5 higher in all cases.\n",
        "\n",
        "caught_speeding(81,True)\n",
        "caught_speeding(81,False)"
      ]
    },
    {
      "cell_type": "code",
      "metadata": {
        "colab": {
          "base_uri": "https://localhost:8080/"
        },
        "id": "qmO5IHlK9NTJ",
        "outputId": "051c09ef-7e64-4613-95ef-bf46009b6179"
      },
      "source": [
        "def caught_speeding(speed,bday):\n",
        "  if(bday):\n",
        "    s=5\n",
        "  else:\n",
        "    s=0\n",
        "  if (speed <= 60+s):\n",
        "    return \"No Challan\"\n",
        "  elif (speed>60+s) and (speed <81+s):\n",
        "    return \"Small Challan\"\n",
        "  else:\n",
        "    return \"Heavy Challan\"\n",
        "\n",
        "print(caught_speeding(81,False)) # Not a Bday\n",
        "print(caught_speeding(81,True))  # It is a Bday"
      ],
      "execution_count": null,
      "outputs": [
        {
          "output_type": "stream",
          "text": [
            "Heavy Challan\n",
            "Small Challan\n"
          ],
          "name": "stdout"
        }
      ]
    },
    {
      "cell_type": "markdown",
      "metadata": {
        "id": "-3qYy7mWCASB"
      },
      "source": [
        "**Q10.** Concatenate two lists index-wise\n",
        "\n",
        "list1 = [\"M\", \"na\", \"i\", \"She\"]\n",
        "list2 = [\"y\", \"me\", \"s\", \"lly\"]\n",
        "\n",
        "Expected Outcome: ['My', 'name', 'is', 'Shelly']"
      ]
    },
    {
      "cell_type": "code",
      "metadata": {
        "colab": {
          "base_uri": "https://localhost:8080/"
        },
        "id": "Jw6zfc-XBbMY",
        "outputId": "afa92efe-ca95-40f0-bcca-ac09831d0b68"
      },
      "source": [
        "list1 = [\"M\", \"na\", \"i\", \"She\"]\n",
        "list2 = [\"y\", \"me\", \"s\", \"lly\"]\n",
        "for i in range(len(list1)):\n",
        "  list1[i]+=list2[i]\n",
        "\n",
        "print(list1)\n"
      ],
      "execution_count": null,
      "outputs": [
        {
          "output_type": "stream",
          "text": [
            "['My', 'name', 'is', 'Shelly']\n"
          ],
          "name": "stdout"
        }
      ]
    },
    {
      "cell_type": "markdown",
      "metadata": {
        "id": "FjDA420wCx55"
      },
      "source": [
        "**Q11.** Concatenate two lists in the following order\n",
        "\n",
        "list1 = [\"Hello \", \"take \"]\n",
        "list2 = [\"Dear\", \"Sir\"]\n",
        "\n",
        "Expected Output: ['Hello Dear', 'Hello Sir', 'take Dear', 'take Sir']"
      ]
    },
    {
      "cell_type": "code",
      "metadata": {
        "colab": {
          "base_uri": "https://localhost:8080/"
        },
        "id": "aNf7jrIoCZba",
        "outputId": "2d979695-7e05-4dd9-96cc-5ac90120da30"
      },
      "source": [
        "list1 = [\"Hello \", \"take \"] \n",
        "list2 = [\"Dear\", \"Sir\"]\n",
        "con = []\n",
        "for a in list1:\n",
        "  for b in list2:\n",
        "    con.append(a+b) \n",
        "\n",
        "print(con)\n"
      ],
      "execution_count": null,
      "outputs": [
        {
          "output_type": "stream",
          "text": [
            "['Hello Dear', 'Hello Sir', 'take Dear', 'take Sir']\n"
          ],
          "name": "stdout"
        }
      ]
    },
    {
      "cell_type": "markdown",
      "metadata": {
        "id": "lwAG8tXvE0B5"
      },
      "source": [
        "**Q12.** Add item 7000 after 6000 in the following Python List\n",
        "\n",
        "list1 = [10, 20, [300, 400, [5000, 6000], 500], 30, 40]"
      ]
    },
    {
      "cell_type": "code",
      "metadata": {
        "colab": {
          "base_uri": "https://localhost:8080/"
        },
        "id": "ly1WFIzaD_Xi",
        "outputId": "2bf65992-1e89-44b7-88fe-05db2a09e704"
      },
      "source": [
        "list1 = [10, 20, [300, 400, [5000, 6000], 500], 30, 40]\n",
        "list1[2][2].append(7000)\n",
        "print(list1)"
      ],
      "execution_count": null,
      "outputs": [
        {
          "output_type": "stream",
          "text": [
            "[10, 20, [300, 400, [5000, 6000, 7000], 500], 30, 40]\n"
          ],
          "name": "stdout"
        }
      ]
    },
    {
      "cell_type": "markdown",
      "metadata": {
        "id": "NpE7u5bwFhxl"
      },
      "source": [
        "**Q13.** Given a Python list, remove all occurrence of 20 from the list\n",
        "\n",
        "list1 = [5, 20, 15, 20, 25, 50, 20]"
      ]
    },
    {
      "cell_type": "code",
      "metadata": {
        "colab": {
          "base_uri": "https://localhost:8080/"
        },
        "id": "gjGIqk8fFbEu",
        "outputId": "33964a5b-2c9e-4749-97d9-146a09992c26"
      },
      "source": [
        "list1 = [5, 20, 15, 20, 25, 50, 20]\n",
        "list1 = [x for x in list1 if x != 20]\n",
        "print(list1)"
      ],
      "execution_count": null,
      "outputs": [
        {
          "output_type": "stream",
          "text": [
            "[5, 15, 25, 50]\n"
          ],
          "name": "stdout"
        }
      ]
    },
    {
      "cell_type": "markdown",
      "metadata": {
        "id": "eFhV77vSGMyn"
      },
      "source": [
        "**Q14.** Check if a value 200 exists in a dictionary\n",
        "\n",
        "d1 = {'a': 100, 'b': 200, 'c': 300}"
      ]
    },
    {
      "cell_type": "code",
      "metadata": {
        "colab": {
          "base_uri": "https://localhost:8080/"
        },
        "id": "u2X7WV9vGGil",
        "outputId": "ce2a0cd0-f32b-4734-f88e-f5a6468fb1b3"
      },
      "source": [
        "d1 = {'a': 100, 'b': 200, 'c': 300}\n",
        "val = 200\n",
        "\n",
        "def checkVal(dict,val):\n",
        "  if val in dict.values():\n",
        "    return True\n",
        "  else:\n",
        "    return False\n",
        "  \n",
        "print(checkVal(d1,val))"
      ],
      "execution_count": null,
      "outputs": [
        {
          "output_type": "stream",
          "text": [
            "True\n"
          ],
          "name": "stdout"
        }
      ]
    },
    {
      "cell_type": "markdown",
      "metadata": {
        "id": "8WRIG6bAHPH4"
      },
      "source": [
        "**Q15.** Find the sum of the series 2 +22 + 222 + 2222 + .. n terms"
      ]
    },
    {
      "cell_type": "code",
      "metadata": {
        "colab": {
          "base_uri": "https://localhost:8080/"
        },
        "id": "Zuh1tGn5HGlp",
        "outputId": "f55a3cab-75c2-4803-c9b0-02dca06b5042"
      },
      "source": [
        "n = 4\n",
        "l = []\n",
        "sum = 0\n",
        "for i in range(0,n):\n",
        "  s = \"\"\n",
        "  for x in range(0,i+1):\n",
        "    s+= \"2\"\n",
        "  sum += int(s)\n",
        "  l.append(s)\n",
        "\n",
        "print(l)\n",
        "print(sum)"
      ],
      "execution_count": null,
      "outputs": [
        {
          "output_type": "stream",
          "text": [
            "['2', '22', '222', '2222']\n",
            "2468\n"
          ],
          "name": "stdout"
        }
      ]
    },
    {
      "cell_type": "markdown",
      "metadata": {
        "id": "0CU8omrbI_Rt"
      },
      "source": [
        "\n",
        "\n",
        "---\n",
        "\n"
      ]
    }
  ]
}