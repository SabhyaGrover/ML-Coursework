{
  "nbformat": 4,
  "nbformat_minor": 0,
  "metadata": {
    "colab": {
      "name": "AI_app_lab2.ipynb",
      "provenance": [],
      "authorship_tag": "ABX9TyMAF6YG25KIp0ki5dswfQq3",
      "include_colab_link": true
    },
    "kernelspec": {
      "name": "python3",
      "display_name": "Python 3"
    },
    "language_info": {
      "name": "python"
    }
  },
  "cells": [
    {
      "cell_type": "markdown",
      "metadata": {
        "id": "view-in-github",
        "colab_type": "text"
      },
      "source": [
        "<a href=\"https://colab.research.google.com/github/SabhyaGrover/Data-Science-UCS655/blob/main/AI_app_lab2.ipynb\" target=\"_parent\"><img src=\"https://colab.research.google.com/assets/colab-badge.svg\" alt=\"Open In Colab\"/></a>"
      ]
    },
    {
      "cell_type": "markdown",
      "metadata": {
        "id": "JIKODhgFJLf6"
      },
      "source": [
        "# **Lab 2 - Pandas**"
      ]
    },
    {
      "cell_type": "code",
      "metadata": {
        "colab": {
          "base_uri": "https://localhost:8080/"
        },
        "id": "zygmJYUoJHsA",
        "outputId": "ec71d11b-1242-466b-dc1a-e03cf1a05f84"
      },
      "source": [
        "# Mounting Google Drive\n",
        "from google.colab import drive\n",
        "drive.mount('/content/gdrive')"
      ],
      "execution_count": null,
      "outputs": [
        {
          "output_type": "stream",
          "text": [
            "Mounted at /content/gdrive\n"
          ],
          "name": "stdout"
        }
      ]
    },
    {
      "cell_type": "code",
      "metadata": {
        "id": "ztrELZ6FJjHO"
      },
      "source": [
        "import os\n",
        "os.environ['KAGGLE_CONFIG_DIR'] = \"/content/gdrive/My Drive/Kaggle\"\n",
        "# /content/gdrive/My Drive/Kaggle is the path where kaggle.json is present in the Google Drive"
      ],
      "execution_count": null,
      "outputs": []
    },
    {
      "cell_type": "code",
      "metadata": {
        "colab": {
          "base_uri": "https://localhost:8080/",
          "height": 56
        },
        "id": "AakPJbpBJxHz",
        "outputId": "cb559181-6e37-4b28-a940-bb7be5fd7955"
      },
      "source": [
        "#changing the working directory\n",
        "%cd /content/gdrive/My Drive/Kaggle\n",
        "#Check the present working directory using pwd command\n",
        "%pwd"
      ],
      "execution_count": null,
      "outputs": [
        {
          "output_type": "stream",
          "text": [
            "/content/gdrive/My Drive/Kaggle\n"
          ],
          "name": "stdout"
        },
        {
          "output_type": "execute_result",
          "data": {
            "application/vnd.google.colaboratory.intrinsic+json": {
              "type": "string"
            },
            "text/plain": [
              "'/content/gdrive/My Drive/Kaggle'"
            ]
          },
          "metadata": {
            "tags": []
          },
          "execution_count": 3
        }
      ]
    },
    {
      "cell_type": "code",
      "metadata": {
        "colab": {
          "base_uri": "https://localhost:8080/"
        },
        "id": "XvDZ7S6qJz37",
        "outputId": "aa8dc2cb-4a9c-4c83-932c-806371d1363d"
      },
      "source": [
        "!kaggle datasets download -d kaggle/sf-salaries\n",
        "!ls"
      ],
      "execution_count": null,
      "outputs": [
        {
          "output_type": "stream",
          "text": [
            "Downloading sf-salaries.zip to /content/gdrive/My Drive/Kaggle\n",
            " 78% 9.00M/11.5M [00:00<00:00, 18.1MB/s]\n",
            "100% 11.5M/11.5M [00:00<00:00, 21.3MB/s]\n",
            "AWCustomers.csv  AWTest-Classification.csv  kaggle.json\n",
            "AWSales.csv\t AWTest-Regression.csv\t    sf-salaries.zip\n"
          ],
          "name": "stdout"
        }
      ]
    },
    {
      "cell_type": "code",
      "metadata": {
        "colab": {
          "base_uri": "https://localhost:8080/"
        },
        "id": "ZE1FUiYvKLE5",
        "outputId": "ede29780-59da-4592-9aaa-dbf85d4b584b"
      },
      "source": [
        "!unzip \\*.zip  && rm *.zip"
      ],
      "execution_count": null,
      "outputs": [
        {
          "output_type": "stream",
          "text": [
            "Archive:  sf-salaries.zip\n",
            "  inflating: Salaries.csv            \n",
            "  inflating: database.sqlite         \n"
          ],
          "name": "stdout"
        }
      ]
    },
    {
      "cell_type": "markdown",
      "metadata": {
        "id": "BNrxFjJ0Knui"
      },
      "source": [
        "**Task 1:** Read Salaries.csv as a dataframe called sal."
      ]
    },
    {
      "cell_type": "code",
      "metadata": {
        "colab": {
          "base_uri": "https://localhost:8080/"
        },
        "id": "6YUszTr-KVTh",
        "outputId": "66522b4b-8c91-4788-a522-70105083d094"
      },
      "source": [
        "import pandas as pd\n",
        "# Reading Data from CSV files\n",
        "sal = pd.read_csv('Salaries.csv')"
      ],
      "execution_count": null,
      "outputs": [
        {
          "output_type": "stream",
          "text": [
            "/usr/local/lib/python3.7/dist-packages/IPython/core/interactiveshell.py:2718: DtypeWarning: Columns (3,4,5,6,12) have mixed types.Specify dtype option on import or set low_memory=False.\n",
            "  interactivity=interactivity, compiler=compiler, result=result)\n"
          ],
          "name": "stderr"
        }
      ]
    },
    {
      "cell_type": "markdown",
      "metadata": {
        "id": "pBsdYxxvLUUB"
      },
      "source": [
        "**Task 2:** Check the head of the DataFrame."
      ]
    },
    {
      "cell_type": "code",
      "metadata": {
        "colab": {
          "base_uri": "https://localhost:8080/",
          "height": 467
        },
        "id": "sYyP6ZG4Ke3D",
        "outputId": "ddeaf1ce-504f-4e9b-e78b-8a4b9f19140b"
      },
      "source": [
        "sal.head()"
      ],
      "execution_count": null,
      "outputs": [
        {
          "output_type": "execute_result",
          "data": {
            "text/html": [
              "<div>\n",
              "<style scoped>\n",
              "    .dataframe tbody tr th:only-of-type {\n",
              "        vertical-align: middle;\n",
              "    }\n",
              "\n",
              "    .dataframe tbody tr th {\n",
              "        vertical-align: top;\n",
              "    }\n",
              "\n",
              "    .dataframe thead th {\n",
              "        text-align: right;\n",
              "    }\n",
              "</style>\n",
              "<table border=\"1\" class=\"dataframe\">\n",
              "  <thead>\n",
              "    <tr style=\"text-align: right;\">\n",
              "      <th></th>\n",
              "      <th>Id</th>\n",
              "      <th>EmployeeName</th>\n",
              "      <th>JobTitle</th>\n",
              "      <th>BasePay</th>\n",
              "      <th>OvertimePay</th>\n",
              "      <th>OtherPay</th>\n",
              "      <th>Benefits</th>\n",
              "      <th>TotalPay</th>\n",
              "      <th>TotalPayBenefits</th>\n",
              "      <th>Year</th>\n",
              "      <th>Notes</th>\n",
              "      <th>Agency</th>\n",
              "      <th>Status</th>\n",
              "    </tr>\n",
              "  </thead>\n",
              "  <tbody>\n",
              "    <tr>\n",
              "      <th>0</th>\n",
              "      <td>1</td>\n",
              "      <td>NATHANIEL FORD</td>\n",
              "      <td>GENERAL MANAGER-METROPOLITAN TRANSIT AUTHORITY</td>\n",
              "      <td>167411</td>\n",
              "      <td>0</td>\n",
              "      <td>400184</td>\n",
              "      <td>NaN</td>\n",
              "      <td>567595.43</td>\n",
              "      <td>567595.43</td>\n",
              "      <td>2011</td>\n",
              "      <td>NaN</td>\n",
              "      <td>San Francisco</td>\n",
              "      <td>NaN</td>\n",
              "    </tr>\n",
              "    <tr>\n",
              "      <th>1</th>\n",
              "      <td>2</td>\n",
              "      <td>GARY JIMENEZ</td>\n",
              "      <td>CAPTAIN III (POLICE DEPARTMENT)</td>\n",
              "      <td>155966</td>\n",
              "      <td>245132</td>\n",
              "      <td>137811</td>\n",
              "      <td>NaN</td>\n",
              "      <td>538909.28</td>\n",
              "      <td>538909.28</td>\n",
              "      <td>2011</td>\n",
              "      <td>NaN</td>\n",
              "      <td>San Francisco</td>\n",
              "      <td>NaN</td>\n",
              "    </tr>\n",
              "    <tr>\n",
              "      <th>2</th>\n",
              "      <td>3</td>\n",
              "      <td>ALBERT PARDINI</td>\n",
              "      <td>CAPTAIN III (POLICE DEPARTMENT)</td>\n",
              "      <td>212739</td>\n",
              "      <td>106088</td>\n",
              "      <td>16452.6</td>\n",
              "      <td>NaN</td>\n",
              "      <td>335279.91</td>\n",
              "      <td>335279.91</td>\n",
              "      <td>2011</td>\n",
              "      <td>NaN</td>\n",
              "      <td>San Francisco</td>\n",
              "      <td>NaN</td>\n",
              "    </tr>\n",
              "    <tr>\n",
              "      <th>3</th>\n",
              "      <td>4</td>\n",
              "      <td>CHRISTOPHER CHONG</td>\n",
              "      <td>WIRE ROPE CABLE MAINTENANCE MECHANIC</td>\n",
              "      <td>77916</td>\n",
              "      <td>56120.7</td>\n",
              "      <td>198307</td>\n",
              "      <td>NaN</td>\n",
              "      <td>332343.61</td>\n",
              "      <td>332343.61</td>\n",
              "      <td>2011</td>\n",
              "      <td>NaN</td>\n",
              "      <td>San Francisco</td>\n",
              "      <td>NaN</td>\n",
              "    </tr>\n",
              "    <tr>\n",
              "      <th>4</th>\n",
              "      <td>5</td>\n",
              "      <td>PATRICK GARDNER</td>\n",
              "      <td>DEPUTY CHIEF OF DEPARTMENT,(FIRE DEPARTMENT)</td>\n",
              "      <td>134402</td>\n",
              "      <td>9737</td>\n",
              "      <td>182235</td>\n",
              "      <td>NaN</td>\n",
              "      <td>326373.19</td>\n",
              "      <td>326373.19</td>\n",
              "      <td>2011</td>\n",
              "      <td>NaN</td>\n",
              "      <td>San Francisco</td>\n",
              "      <td>NaN</td>\n",
              "    </tr>\n",
              "  </tbody>\n",
              "</table>\n",
              "</div>"
            ],
            "text/plain": [
              "   Id       EmployeeName  ...         Agency Status\n",
              "0   1     NATHANIEL FORD  ...  San Francisco    NaN\n",
              "1   2       GARY JIMENEZ  ...  San Francisco    NaN\n",
              "2   3     ALBERT PARDINI  ...  San Francisco    NaN\n",
              "3   4  CHRISTOPHER CHONG  ...  San Francisco    NaN\n",
              "4   5    PATRICK GARDNER  ...  San Francisco    NaN\n",
              "\n",
              "[5 rows x 13 columns]"
            ]
          },
          "metadata": {
            "tags": []
          },
          "execution_count": 5
        }
      ]
    },
    {
      "cell_type": "markdown",
      "metadata": {
        "id": "H0n1CgUDLfg8"
      },
      "source": [
        "**Task 3:** Use the .info() method to find out how many entries there are."
      ]
    },
    {
      "cell_type": "code",
      "metadata": {
        "colab": {
          "base_uri": "https://localhost:8080/"
        },
        "id": "q0qKt7T7LR45",
        "outputId": "2c80b8e8-1d7b-491b-9230-5cd6853f44f4"
      },
      "source": [
        "sal.info()\n",
        "# There are 148654 entries with 13 columns"
      ],
      "execution_count": null,
      "outputs": [
        {
          "output_type": "stream",
          "text": [
            "<class 'pandas.core.frame.DataFrame'>\n",
            "RangeIndex: 148654 entries, 0 to 148653\n",
            "Data columns (total 13 columns):\n",
            " #   Column            Non-Null Count   Dtype  \n",
            "---  ------            --------------   -----  \n",
            " 0   Id                148654 non-null  int64  \n",
            " 1   EmployeeName      148654 non-null  object \n",
            " 2   JobTitle          148654 non-null  object \n",
            " 3   BasePay           148049 non-null  object \n",
            " 4   OvertimePay       148654 non-null  object \n",
            " 5   OtherPay          148654 non-null  object \n",
            " 6   Benefits          112495 non-null  object \n",
            " 7   TotalPay          148654 non-null  float64\n",
            " 8   TotalPayBenefits  148654 non-null  float64\n",
            " 9   Year              148654 non-null  int64  \n",
            " 10  Notes             0 non-null       float64\n",
            " 11  Agency            148654 non-null  object \n",
            " 12  Status            38119 non-null   object \n",
            "dtypes: float64(3), int64(2), object(8)\n",
            "memory usage: 14.7+ MB\n"
          ],
          "name": "stdout"
        }
      ]
    },
    {
      "cell_type": "markdown",
      "metadata": {
        "id": "vNIdc_ivar3A"
      },
      "source": [
        "**Task 4:** What is the average BasePay ?"
      ]
    },
    {
      "cell_type": "code",
      "metadata": {
        "colab": {
          "base_uri": "https://localhost:8080/"
        },
        "id": "jTVDXYYCLn9m",
        "outputId": "7fb7fe93-4179-4803-c27d-393faf5668d3"
      },
      "source": [
        "# Converting to numeric datatype and filling NaN values with 0\n",
        "sal['BasePay'] = pd.to_numeric(sal['BasePay'], errors='coerce').fillna(0)\n",
        "# Get Mean of the Numeric Data\n",
        "print(sal.loc[:,['BasePay']].mean())"
      ],
      "execution_count": null,
      "outputs": [
        {
          "output_type": "stream",
          "text": [
            "BasePay    66053.729288\n",
            "dtype: float64\n"
          ],
          "name": "stdout"
        }
      ]
    },
    {
      "cell_type": "markdown",
      "metadata": {
        "id": "rHDqsnfPbwmD"
      },
      "source": [
        "**Task 5:** What is the highest amount of OvertimePay in the dataset?"
      ]
    },
    {
      "cell_type": "code",
      "metadata": {
        "colab": {
          "base_uri": "https://localhost:8080/"
        },
        "id": "38yES9a4WaHG",
        "outputId": "9f718bfe-f6ef-435e-c00c-88bc67ed7d52"
      },
      "source": [
        "sal['OvertimePay'] = pd.to_numeric(sal['OvertimePay'], errors='coerce').fillna(0)\n",
        "print(sal.loc[:,['OvertimePay']].max())"
      ],
      "execution_count": null,
      "outputs": [
        {
          "output_type": "stream",
          "text": [
            "OvertimePay    245131.88\n",
            "dtype: float64\n"
          ],
          "name": "stdout"
        }
      ]
    },
    {
      "cell_type": "markdown",
      "metadata": {
        "id": "1L01uMzUckcT"
      },
      "source": [
        "**Task 6:** What is the job title of JOSEPH DRISCOLL? \n",
        "\n",
        "Note: Use all caps, there is also a lowercase Joseph\n",
        "Driscoll."
      ]
    },
    {
      "cell_type": "code",
      "metadata": {
        "colab": {
          "base_uri": "https://localhost:8080/"
        },
        "id": "HVq8_D1Kcahs",
        "outputId": "5aebd641-775d-4a92-9ce5-04b56f9211e6"
      },
      "source": [
        "print(sal.loc[sal['EmployeeName'] == \"JOSEPH DRISCOLL\",[\"JobTitle\"]])"
      ],
      "execution_count": null,
      "outputs": [
        {
          "output_type": "stream",
          "text": [
            "                     JobTitle\n",
            "24  CAPTAIN, FIRE SUPPRESSION\n"
          ],
          "name": "stdout"
        }
      ]
    },
    {
      "cell_type": "markdown",
      "metadata": {
        "id": "hoKZsZB3fYHk"
      },
      "source": [
        "**Task 7:** How much does JOSEPH DRISCOLL make (including benefits)?"
      ]
    },
    {
      "cell_type": "code",
      "metadata": {
        "colab": {
          "base_uri": "https://localhost:8080/"
        },
        "id": "GJWflnZddR_g",
        "outputId": "6f0b80f4-f946-4714-ac98-aa6536775697"
      },
      "source": [
        "print(sal.loc[sal['EmployeeName'] == \"JOSEPH DRISCOLL\",[\"TotalPayBenefits\"]])"
      ],
      "execution_count": null,
      "outputs": [
        {
          "output_type": "stream",
          "text": [
            "    TotalPayBenefits\n",
            "24         270324.91\n"
          ],
          "name": "stdout"
        }
      ]
    },
    {
      "cell_type": "markdown",
      "metadata": {
        "id": "aGmxJZMCgSzu"
      },
      "source": [
        "**Task 8:** What is the name of highest paid person (including benefits)?"
      ]
    },
    {
      "cell_type": "code",
      "metadata": {
        "colab": {
          "base_uri": "https://localhost:8080/"
        },
        "id": "8o8BXniLgP26",
        "outputId": "fe078c83-1021-4368-bb59-da7c61bdbd51"
      },
      "source": [
        "print(sal.loc[sal['TotalPayBenefits'] == sal[\"TotalPayBenefits\"].max(),[\"EmployeeName\",\"TotalPayBenefits\"]])"
      ],
      "execution_count": null,
      "outputs": [
        {
          "output_type": "stream",
          "text": [
            "     EmployeeName  TotalPayBenefits\n",
            "0  NATHANIEL FORD         567595.43\n"
          ],
          "name": "stdout"
        }
      ]
    },
    {
      "cell_type": "markdown",
      "metadata": {
        "id": "NdECt_h0iuve"
      },
      "source": [
        "**Task 9:** What is the name of lowest paid person (including benefits)?"
      ]
    },
    {
      "cell_type": "code",
      "metadata": {
        "colab": {
          "base_uri": "https://localhost:8080/"
        },
        "id": "APvGP-rrgrTm",
        "outputId": "08263ec6-b8a1-4049-fcec-69e5c84705ea"
      },
      "source": [
        "print(sal.loc[sal['TotalPayBenefits'] == sal[\"TotalPayBenefits\"].min(),[\"EmployeeName\",\"TotalPayBenefits\"]])"
      ],
      "execution_count": null,
      "outputs": [
        {
          "output_type": "stream",
          "text": [
            "       EmployeeName  TotalPayBenefits\n",
            "148653    Joe Lopez           -618.13\n"
          ],
          "name": "stdout"
        }
      ]
    },
    {
      "cell_type": "markdown",
      "metadata": {
        "id": "4IjsO2VMj_Ig"
      },
      "source": [
        "**Task 10:** What was the average (mean) BasePay of all employees per year? (2011-2014)?"
      ]
    },
    {
      "cell_type": "code",
      "metadata": {
        "colab": {
          "base_uri": "https://localhost:8080/"
        },
        "id": "bc7_wgDri1Ro",
        "outputId": "b55aa10a-361e-424d-e7f0-25ed12012914"
      },
      "source": [
        "print(sal.loc[:,['Year','BasePay']].groupby(['Year']).mean())"
      ],
      "execution_count": null,
      "outputs": [
        {
          "output_type": "stream",
          "text": [
            "           BasePay\n",
            "Year              \n",
            "2011  63595.956517\n",
            "2012  65436.406857\n",
            "2013  68509.832156\n",
            "2014  66557.437750\n"
          ],
          "name": "stdout"
        }
      ]
    },
    {
      "cell_type": "markdown",
      "metadata": {
        "id": "IZqH80N3m6nT"
      },
      "source": [
        "**Task 11:** How many unique job titles are there?"
      ]
    },
    {
      "cell_type": "code",
      "metadata": {
        "colab": {
          "base_uri": "https://localhost:8080/"
        },
        "id": "QBZ3vrgLjA0j",
        "outputId": "5c2dbe53-f802-44d9-9ac9-4f3c1076f640"
      },
      "source": [
        "jobTit = sal.loc[:,['JobTitle']].drop_duplicates()\n",
        "print(jobTitles.count())"
      ],
      "execution_count": null,
      "outputs": [
        {
          "output_type": "stream",
          "text": [
            "JobTitle    2159\n",
            "dtype: int64\n"
          ],
          "name": "stdout"
        }
      ]
    },
    {
      "cell_type": "markdown",
      "metadata": {
        "id": "28XEK_EWoCXD"
      },
      "source": [
        "**Task 12:** What are the top 5 most common jobs?"
      ]
    },
    {
      "cell_type": "code",
      "metadata": {
        "colab": {
          "base_uri": "https://localhost:8080/"
        },
        "id": "IyhCFg-jn5j3",
        "outputId": "8f07a72a-0dc8-46c6-a561-fcb1d268cfe8"
      },
      "source": [
        "print(sal['JobTitle'].value_counts().head())"
      ],
      "execution_count": null,
      "outputs": [
        {
          "output_type": "stream",
          "text": [
            "Transit Operator                7036\n",
            "Special Nurse                   4389\n",
            "Registered Nurse                3736\n",
            "Public Svc Aide-Public Works    2518\n",
            "Police Officer 3                2421\n",
            "Name: JobTitle, dtype: int64\n"
          ],
          "name": "stdout"
        }
      ]
    },
    {
      "cell_type": "markdown",
      "metadata": {
        "id": "mvTY7ew8r7l4"
      },
      "source": [
        "**Task 13:** How many Job Titles were represented by only one person in 2013? (e.g. Job Titles with only one\n",
        "occurence in 2013?)"
      ]
    },
    {
      "cell_type": "code",
      "metadata": {
        "colab": {
          "base_uri": "https://localhost:8080/"
        },
        "id": "6S2ItngHs54y",
        "outputId": "4bfe59d4-33f9-40bd-8162-c541a5ab03c1"
      },
      "source": [
        "# Get the total no of Job Titles in 2013 \n",
        "df = sal[sal['Year'] == 2013].groupby(['JobTitle']).count()\n",
        "# Put only those job titles who were handled by only one person\n",
        "df = df[df['Id'] == 1]\n",
        "# Print the no of rows \n",
        "print(df.shape[0])"
      ],
      "execution_count": null,
      "outputs": [
        {
          "output_type": "stream",
          "text": [
            "202\n"
          ],
          "name": "stdout"
        }
      ]
    },
    {
      "cell_type": "markdown",
      "metadata": {
        "id": "lRX2-lzUGPKM"
      },
      "source": [
        "**Task 14:** How many people have the word Chief in their job title?"
      ]
    },
    {
      "cell_type": "code",
      "metadata": {
        "colab": {
          "base_uri": "https://localhost:8080/"
        },
        "id": "JltkiWjZGaqU",
        "outputId": "2149479e-9384-46dd-c84a-38efdc519ed5"
      },
      "source": [
        "import re\n",
        "import numpy as np\n",
        "\n",
        "# This function will first compile the pattern into a regular\n",
        "# expression object, then we can use the .fullmatch(val)\n",
        "# method to test the val's value against our pattern. \n",
        "# In order to apply this test to each element in our x \n",
        "# vector we will use numpy's vectorize(func) function to \n",
        "# create a vector equivalent for our operation of regex \n",
        "# matching. Finally we apply this vectorized function to\n",
        "# our x input vector. \n",
        "\n",
        "def like(x,pattern):\n",
        "  r = re.compile(pattern)\n",
        "  vlike = np.vectorize(lambda val: bool(r.fullmatch(val)))\n",
        "  return vlike(x)\n",
        "\n",
        "dfDop = jobTit.loc[like(jobTit,\".*Chief.*\")].drop_duplicates()\n",
        "print(dfDop.count())"
      ],
      "execution_count": null,
      "outputs": [
        {
          "output_type": "stream",
          "text": [
            "JobTitle    29\n",
            "dtype: int64\n"
          ],
          "name": "stdout"
        }
      ]
    },
    {
      "cell_type": "markdown",
      "metadata": {
        "id": "ZkNYgL4vGbb0"
      },
      "source": [
        "**Task 15:** Is there a correlation between length of the Job Title string and Salary?"
      ]
    },
    {
      "cell_type": "code",
      "metadata": {
        "colab": {
          "base_uri": "https://localhost:8080/"
        },
        "id": "82tYL3lkihHN",
        "outputId": "719de24c-6c13-4388-dc82-8e94b3e85dd3"
      },
      "source": [
        "strlen = sal[\"JobTitle\"].str.len()\n",
        "print(strlen.corr(sal['TotalPay']))\n",
        "# As coefficient is near to 0, therefore there is No Correlation "
      ],
      "execution_count": null,
      "outputs": [
        {
          "output_type": "stream",
          "text": [
            "-0.01535622669909459\n"
          ],
          "name": "stdout"
        }
      ]
    },
    {
      "cell_type": "markdown",
      "metadata": {
        "id": "xsWNDhHjmlbp"
      },
      "source": [
        "\n",
        "\n",
        "---\n",
        "\n"
      ]
    }
  ]
}