{
  "nbformat": 4,
  "nbformat_minor": 0,
  "metadata": {
    "colab": {
      "name": "AI_app_lab3.ipynb",
      "provenance": [],
      "authorship_tag": "ABX9TyOV8db4LJqD2W7+99l1dRib",
      "include_colab_link": true
    },
    "kernelspec": {
      "name": "python3",
      "display_name": "Python 3"
    },
    "language_info": {
      "name": "python"
    }
  },
  "cells": [
    {
      "cell_type": "markdown",
      "metadata": {
        "id": "view-in-github",
        "colab_type": "text"
      },
      "source": [
        "<a href=\"https://colab.research.google.com/github/SabhyaGrover/Data-Science-UCS655/blob/main/AI_app_lab3.ipynb\" target=\"_parent\"><img src=\"https://colab.research.google.com/assets/colab-badge.svg\" alt=\"Open In Colab\"/></a>"
      ]
    },
    {
      "cell_type": "markdown",
      "metadata": {
        "id": "pJfLyOXR6iJj"
      },
      "source": [
        "# **Lab 3-Numpy**"
      ]
    },
    {
      "cell_type": "markdown",
      "metadata": {
        "id": "QSOxzjh26tq4"
      },
      "source": [
        "1. Create an array of 10 fives"
      ]
    },
    {
      "cell_type": "code",
      "metadata": {
        "colab": {
          "base_uri": "https://localhost:8080/"
        },
        "id": "zXOGb8C96Vq5",
        "outputId": "33f5808b-1cce-4000-b885-dd39371331ed"
      },
      "source": [
        "import numpy as np\n",
        "np.full((1,10),5)"
      ],
      "execution_count": null,
      "outputs": [
        {
          "output_type": "execute_result",
          "data": {
            "text/plain": [
              "array([[5, 5, 5, 5, 5, 5, 5, 5, 5, 5]])"
            ]
          },
          "metadata": {
            "tags": []
          },
          "execution_count": 15
        }
      ]
    },
    {
      "cell_type": "markdown",
      "metadata": {
        "id": "Cy39fbOs9reO"
      },
      "source": [
        "2. Create an array of the integers from 10 to 50"
      ]
    },
    {
      "cell_type": "code",
      "metadata": {
        "colab": {
          "base_uri": "https://localhost:8080/"
        },
        "id": "xwHZSQ5h8qEB",
        "outputId": "20408f80-d2cc-4735-fe15-b7a4641f6474"
      },
      "source": [
        "np.arange(10,51)"
      ],
      "execution_count": null,
      "outputs": [
        {
          "output_type": "execute_result",
          "data": {
            "text/plain": [
              "array([10, 11, 12, 13, 14, 15, 16, 17, 18, 19, 20, 21, 22, 23, 24, 25, 26,\n",
              "       27, 28, 29, 30, 31, 32, 33, 34, 35, 36, 37, 38, 39, 40, 41, 42, 43,\n",
              "       44, 45, 46, 47, 48, 49, 50])"
            ]
          },
          "metadata": {
            "tags": []
          },
          "execution_count": 14
        }
      ]
    },
    {
      "cell_type": "markdown",
      "metadata": {
        "id": "2qYtd6bT-IDF"
      },
      "source": [
        "3. Create an array of all the even integers from 10 to 50"
      ]
    },
    {
      "cell_type": "code",
      "metadata": {
        "colab": {
          "base_uri": "https://localhost:8080/"
        },
        "id": "InihR7AB94Cq",
        "outputId": "22982b52-ec47-4a3b-86f3-88852981209e"
      },
      "source": [
        "np.arange(10,51,2)"
      ],
      "execution_count": null,
      "outputs": [
        {
          "output_type": "execute_result",
          "data": {
            "text/plain": [
              "array([10, 12, 14, 16, 18, 20, 22, 24, 26, 28, 30, 32, 34, 36, 38, 40, 42,\n",
              "       44, 46, 48, 50])"
            ]
          },
          "metadata": {
            "tags": []
          },
          "execution_count": 13
        }
      ]
    },
    {
      "cell_type": "markdown",
      "metadata": {
        "id": "Def4YqOo-td6"
      },
      "source": [
        "4. Create a 3x3 matrix with values ranging from 0 to 8"
      ]
    },
    {
      "cell_type": "code",
      "metadata": {
        "colab": {
          "base_uri": "https://localhost:8080/"
        },
        "id": "lh5FA5XO-pKZ",
        "outputId": "3d694643-2403-412a-82d2-a6d1843e6597"
      },
      "source": [
        "np.arange(9).reshape(3,3)"
      ],
      "execution_count": null,
      "outputs": [
        {
          "output_type": "execute_result",
          "data": {
            "text/plain": [
              "array([[0, 1, 2],\n",
              "       [3, 4, 5],\n",
              "       [6, 7, 8]])"
            ]
          },
          "metadata": {
            "tags": []
          },
          "execution_count": 11
        }
      ]
    },
    {
      "cell_type": "markdown",
      "metadata": {
        "id": "5Bklavij_Q_Z"
      },
      "source": [
        "5. Use NumPy to generate an array of 25 random numbers sampled from a standard normal\n",
        "distribution"
      ]
    },
    {
      "cell_type": "code",
      "metadata": {
        "colab": {
          "base_uri": "https://localhost:8080/"
        },
        "id": "4T9MZ9qbANeb",
        "outputId": "f0bf7ef0-c886-4819-b4af-5ce5127dfe09"
      },
      "source": [
        "np.random.standard_normal(25)\n",
        "# (mean=0, stdev=1)"
      ],
      "execution_count": null,
      "outputs": [
        {
          "output_type": "execute_result",
          "data": {
            "text/plain": [
              "array([-0.22606681, -0.42620221, -0.54066255, -0.14121559, -0.9660026 ,\n",
              "       -0.46894576, -0.39424154,  0.07796017, -1.4365044 , -0.73894775,\n",
              "       -0.93327904, -0.82548412, -0.87767286,  1.64835529, -1.54232824,\n",
              "       -0.99779473, -0.09336834, -0.71054602, -1.49483369, -0.40359924,\n",
              "       -0.29836182, -0.55991873,  1.27444076,  0.30439434,  1.44947261])"
            ]
          },
          "metadata": {
            "tags": []
          },
          "execution_count": 17
        }
      ]
    },
    {
      "cell_type": "markdown",
      "metadata": {
        "id": "7tWzsQml_Tqf"
      },
      "source": [
        "6. Create the following array:\n",
        "\n",
        "array([0. , 0.01, 0.02, 0.03, 0.04, 0.05, 0.06, 0.07, 0.08, 0.09, 0.1 ,\n",
        "0.11, 0.12, 0.13, 0.14, 0.15, 0.16, 0.17, 0.18, 0.19, 0.2 , 0.21,\n",
        "0.22, 0.23, 0.24, 0.25, 0.26, 0.27, 0.28, 0.29, 0.3 , 0.31, 0.32,\n",
        "0.33, 0.34, 0.35, 0.36, 0.37, 0.38, 0.39, 0.4 , 0.41, 0.42, 0.43,\n",
        "0.44, 0.45, 0.46, 0.47, 0.48, 0.49, 0.5 , 0.51, 0.52, 0.53, 0.54,\n",
        "0.55, 0.56, 0.57, 0.58, 0.59, 0.6 , 0.61, 0.62, 0.63, 0.64, 0.65,\n",
        "0.66, 0.67, 0.68, 0.69, 0.7 , 0.71, 0.72, 0.73, 0.74, 0.75, 0.76,\n",
        "0.77, 0.78, 0.79, 0.8 , 0.81, 0.82, 0.83, 0.84, 0.85, 0.86, 0.87,\n",
        "0.88, 0.89, 0.9 , 0.91, 0.92, 0.93, 0.94, 0.95, 0.96, 0.97, 0.98,\n",
        "0.99, 1. ])"
      ]
    },
    {
      "cell_type": "code",
      "metadata": {
        "colab": {
          "base_uri": "https://localhost:8080/"
        },
        "id": "UO7boN8yBF8f",
        "outputId": "0205b941-1643-43ef-8f40-e9f2da3a8415"
      },
      "source": [
        "np.arange(start=0, stop=1.01, step=0.01)"
      ],
      "execution_count": null,
      "outputs": [
        {
          "output_type": "execute_result",
          "data": {
            "text/plain": [
              "array([0.  , 0.01, 0.02, 0.03, 0.04, 0.05, 0.06, 0.07, 0.08, 0.09, 0.1 ,\n",
              "       0.11, 0.12, 0.13, 0.14, 0.15, 0.16, 0.17, 0.18, 0.19, 0.2 , 0.21,\n",
              "       0.22, 0.23, 0.24, 0.25, 0.26, 0.27, 0.28, 0.29, 0.3 , 0.31, 0.32,\n",
              "       0.33, 0.34, 0.35, 0.36, 0.37, 0.38, 0.39, 0.4 , 0.41, 0.42, 0.43,\n",
              "       0.44, 0.45, 0.46, 0.47, 0.48, 0.49, 0.5 , 0.51, 0.52, 0.53, 0.54,\n",
              "       0.55, 0.56, 0.57, 0.58, 0.59, 0.6 , 0.61, 0.62, 0.63, 0.64, 0.65,\n",
              "       0.66, 0.67, 0.68, 0.69, 0.7 , 0.71, 0.72, 0.73, 0.74, 0.75, 0.76,\n",
              "       0.77, 0.78, 0.79, 0.8 , 0.81, 0.82, 0.83, 0.84, 0.85, 0.86, 0.87,\n",
              "       0.88, 0.89, 0.9 , 0.91, 0.92, 0.93, 0.94, 0.95, 0.96, 0.97, 0.98,\n",
              "       0.99, 1.  ])"
            ]
          },
          "metadata": {
            "tags": []
          },
          "execution_count": 20
        }
      ]
    },
    {
      "cell_type": "markdown",
      "metadata": {
        "id": "nMGtM3gR_cLE"
      },
      "source": [
        "7. Create an array of 20 linearly spaced points between 0 and 1"
      ]
    },
    {
      "cell_type": "code",
      "metadata": {
        "colab": {
          "base_uri": "https://localhost:8080/"
        },
        "id": "mNy-PICaCJQq",
        "outputId": "4df71cc9-a0be-47c7-8376-ef0668a88128"
      },
      "source": [
        "np.linspace(start=0, stop=1, num=20)"
      ],
      "execution_count": null,
      "outputs": [
        {
          "output_type": "execute_result",
          "data": {
            "text/plain": [
              "array([0.        , 0.05263158, 0.10526316, 0.15789474, 0.21052632,\n",
              "       0.26315789, 0.31578947, 0.36842105, 0.42105263, 0.47368421,\n",
              "       0.52631579, 0.57894737, 0.63157895, 0.68421053, 0.73684211,\n",
              "       0.78947368, 0.84210526, 0.89473684, 0.94736842, 1.        ])"
            ]
          },
          "metadata": {
            "tags": []
          },
          "execution_count": 21
        }
      ]
    },
    {
      "cell_type": "markdown",
      "metadata": {
        "id": "IPeME-tn_huf"
      },
      "source": [
        "8. Generate the following matrix, mat,\n",
        "\n",
        "array([[ 1, 2, 3, 4, 5],\n",
        "[ 6, 7, 8, 9, 10],\n",
        "[11, 12, 13, 14, 15],\n",
        "[16, 17, 18, 19, 20],\n",
        "[21, 22, 23, 24, 25]])\n",
        "\n",
        "and extract the following using the indexing and slicing:\n",
        "\n",
        "array([[12, 13, 14, 15],\n",
        "[17, 18, 19, 20],\n",
        "[22, 23, 24, 25]])\n",
        "\n",
        "array([[ 2],\n",
        "[ 7],\n",
        "[12]])\n",
        "\n",
        "Get the sum of all the values in mat\n",
        "Get the sum of all the rows and columns in mat"
      ]
    },
    {
      "cell_type": "code",
      "metadata": {
        "colab": {
          "base_uri": "https://localhost:8080/"
        },
        "id": "KPLu0KUDDKmV",
        "outputId": "15c5d6ae-b98d-4a8f-e3fa-c406bfa9d144"
      },
      "source": [
        "mat = np.arange(1,26).reshape(5,5)\n",
        "mat[2:5][...,1:]\n",
        "# Get the sum of all elements in Matrix\n",
        "print(np.sum(mat))\n",
        "# Get Column Wise sum ( Axis = 0 )\n",
        "print(np.sum(mat,axis=0))\n",
        "# Get Row Wise sum ( Axis = 1 )\n",
        "print(np.sum(mat,axis=1))"
      ],
      "execution_count": null,
      "outputs": [
        {
          "output_type": "stream",
          "text": [
            "325\n",
            "[55 60 65 70 75]\n",
            "[ 15  40  65  90 115]\n"
          ],
          "name": "stdout"
        }
      ]
    },
    {
      "cell_type": "markdown",
      "metadata": {
        "id": "5poZckFFKN1H"
      },
      "source": [
        "\n",
        "\n",
        "---\n",
        "\n"
      ]
    }
  ]
}